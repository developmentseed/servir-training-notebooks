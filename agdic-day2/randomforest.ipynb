{
  "cells": [
    {
      "cell_type": "code",
      "source": [
        "import geopandas as gpd\n",
        "import matplotlib.pyplot as plt\n",
        "import numpy as np\n",
        "import rasterio\n",
        "from rasterio.features import rasterize\n",
        "from rasterstats.io import bounds_window\n",
        "from sklearn.metrics import confusion_matrix\n",
        "from sklearn.model_selection import train_test_split\n",
        "from sklearn.ensemble import RandomForestClassifier\n",
        "from treeinterpreter import treeinterpreter as ti"
      ],
      "outputs": [],
      "execution_count": null,
      "metadata": {
        "collapsed": false,
        "outputHidden": false,
        "inputHidden": false
      }
    },
    {
      "cell_type": "markdown",
      "source": [
        "# Random Forest Model for Crop Type and Land Classification\n",
        "\n",
        "Using data created by SERVIR East Africa, RCMRD, and FEWSET, we demonstrate how to train a Random Forest classifier over Trans Nzoia county, Kenya."
      ],
      "metadata": {}
    },
    {
      "cell_type": "code",
      "source": [
        "%matplotlib inline"
      ],
      "outputs": [],
      "execution_count": null,
      "metadata": {
        "collapsed": false,
        "outputHidden": false,
        "inputHidden": false
      }
    },
    {
      "cell_type": "code",
      "source": [
        "# read in training data\n",
        "training_vectors = gpd.read_file('training_data.geojson')\n",
        "training_vectors.head()"
      ],
      "outputs": [],
      "execution_count": null,
      "metadata": {
        "collapsed": false,
        "outputHidden": false,
        "inputHidden": false
      }
    },
    {
      "cell_type": "code",
      "source": [
        "# show a single geometry\n",
        "training_vectors.geometry[622]"
      ],
      "outputs": [],
      "execution_count": null,
      "metadata": {
        "collapsed": false,
        "outputHidden": false,
        "inputHidden": false
      }
    },
    {
      "cell_type": "code",
      "source": [
        "# find all unique values of training data names to use as classes\n",
        "classes = np.unique(training_vectors.name)\n",
        "classes"
      ],
      "outputs": [],
      "execution_count": null,
      "metadata": {
        "collapsed": false,
        "outputHidden": false,
        "inputHidden": false
      }
    },
    {
      "cell_type": "code",
      "source": [
        "# create a dictionary to convert class names into integers for modeling\n",
        "class_dict = dict(zip(classes, range(len(classes))))\n",
        "class_dict                  "
      ],
      "outputs": [],
      "execution_count": null,
      "metadata": {
        "collapsed": false,
        "outputHidden": false,
        "inputHidden": false
      }
    },
    {
      "cell_type": "code",
      "source": [
        "raster_file = 'https://agdic-servir-training.s3.amazonaws.com/sentinel2.tif'\n",
        "with rasterio.open(raster_file, 'r') as src:\n",
        "    # read in just the boundary of a single geometry\n",
        "    geometry = training_vectors.geometry[62]\n",
        "    window = bounds_window(geometry.bounds, src.transform)\n",
        "    data = src.read(window=window)\n",
        "    \n",
        "    to_show = np.moveaxis(data[3:], 0, 2)\n",
        "    plt.imshow(to_show)\n",
        "    window_affine = src.window_transform(window)\n"
      ],
      "outputs": [],
      "execution_count": null,
      "metadata": {
        "collapsed": false,
        "outputHidden": false,
        "inputHidden": false
      }
    },
    {
      "cell_type": "code",
      "source": [
        "# this larger cell reads data from a raster file for each training vector\n",
        "X_raw = []\n",
        "y_raw = []\n",
        "\n",
        "with rasterio.open(raster_file, 'r') as src:\n",
        "    for (label, geom) in zip(training_vectors.name, training_vectors.geometry):\n",
        "        # read the raster data matching the geometry bounds\n",
        "        window = bounds_window(geom.bounds, src.transform)\n",
        "        \n",
        "        # store our window information\n",
        "        window_affine = src.window_transform(window)\n",
        "        fsrc = src.read(window=window)\n",
        "\n",
        "        # rasterize the (non-buffered) geometry into the larger shape and affine\n",
        "        mask = rasterize(\n",
        "            [(geom, 1)],\n",
        "            out_shape=fsrc.shape[1:],\n",
        "            transform=window_affine,\n",
        "            fill=0,\n",
        "            dtype='uint8',\n",
        "            all_touched=True\n",
        "        ).astype(bool)\n",
        "\n",
        "        # for each label pixel (places where the mask is true)...\n",
        "        label_pixels = np.argwhere(mask)\n",
        "        for (row, col) in label_pixels:\n",
        "            # add a pixel of data to X\n",
        "            data = fsrc[:,row,col]\n",
        "            one_x = np.nan_to_num(data, nan=1e-3)\n",
        "            X_raw.append(one_x)\n",
        "            \n",
        "            # add the label to y\n",
        "            y_raw.append(class_dict[label])"
      ],
      "outputs": [],
      "execution_count": null,
      "metadata": {
        "collapsed": false,
        "outputHidden": false,
        "inputHidden": false
      }
    },
    {
      "cell_type": "code",
      "source": [
        "# convert the training data lists into the appropriate shape and format for scikit-learn\n",
        "X = np.array(X_raw)\n",
        "y = np.array(y_raw)\n",
        "(X.shape, y.shape)"
      ],
      "outputs": [],
      "execution_count": null,
      "metadata": {
        "collapsed": false,
        "outputHidden": false,
        "inputHidden": false
      }
    },
    {
      "cell_type": "code",
      "source": [
        "# (optional) add extra band indices\n",
        "\n",
        "# helper function for calculating ND*I indices (bands in the final dimension)\n",
        "def band_index(arr, a, b):\n",
        "    return np.expand_dims((arr[..., a] - arr[..., b]) / (arr[..., a] + arr[..., b]), axis=1)\n",
        "\n",
        "ndvi = band_index(X, 3, 2)\n",
        "ndwi = band_index(X, 1, 3)\n",
        "\n",
        "X = np.concatenate([X, ndvi, ndwi], axis=1)\n",
        "X.shape"
      ],
      "outputs": [],
      "execution_count": null,
      "metadata": {
        "collapsed": false,
        "outputHidden": false,
        "inputHidden": false
      }
    },
    {
      "cell_type": "code",
      "source": [
        "# split the data into test and train sets\n",
        "X_train, X_test, y_train, y_test = train_test_split(X, y, test_size=0.2, random_state=42)"
      ],
      "outputs": [],
      "execution_count": null,
      "metadata": {
        "collapsed": false,
        "outputHidden": false,
        "inputHidden": false
      }
    },
    {
      "cell_type": "code",
      "source": [
        "# calculate class weights to allow for training on inbalanced training samples\n",
        "labels, counts = np.unique(y_train, return_counts=True)\n",
        "class_weight_dict = dict(zip(labels, 1 / counts))\n",
        "class_weight_dict"
      ],
      "outputs": [],
      "execution_count": null,
      "metadata": {
        "collapsed": false,
        "outputHidden": false,
        "inputHidden": false
      }
    },
    {
      "cell_type": "code",
      "source": [
        "# initialize a RandomForestClassifier\n",
        "clf = RandomForestClassifier(\n",
        "    n_estimators=200,\n",
        "    class_weight=class_weight_dict,\n",
        "    max_depth=6,\n",
        "    n_jobs=3,\n",
        "    verbose=1,\n",
        "    random_state=0\n",
        ")"
      ],
      "outputs": [],
      "execution_count": null,
      "metadata": {
        "collapsed": false,
        "outputHidden": false,
        "inputHidden": false
      }
    },
    {
      "cell_type": "code",
      "source": [
        "# fit the model to the data (training)\n",
        "clf.fit(X, y)"
      ],
      "outputs": [],
      "execution_count": null,
      "metadata": {
        "collapsed": false,
        "outputHidden": false,
        "inputHidden": false
      }
    },
    {
      "cell_type": "code",
      "source": [
        "# predict on X_test to evaluate the model\n",
        "preds = clf.predict(X_test)\n",
        "cm = confusion_matrix(y_test, preds, labels=labels)"
      ],
      "outputs": [],
      "execution_count": null,
      "metadata": {
        "collapsed": false,
        "outputHidden": false,
        "inputHidden": false
      }
    },
    {
      "cell_type": "code",
      "source": [
        "# plot the confusion matrix\n",
        "%matplotlib inline\n",
        "cm = cm.astype('float') / cm.sum(axis=1)[:, np.newaxis]\n",
        "fig, ax = plt.subplots(figsize=(10, 10))\n",
        "im = ax.imshow(cm, interpolation='nearest', cmap=plt.cm.Blues)\n",
        "ax.figure.colorbar(im, ax=ax)\n",
        "# We want to show all ticks...\n",
        "ax.set(xticks=np.arange(cm.shape[1]),\n",
        "       yticks=np.arange(cm.shape[0]),\n",
        "       # ... and label them with the respective list entries\n",
        "       xticklabels=classes, yticklabels=classes,\n",
        "       title='Normalized Confusion Matrix',\n",
        "       ylabel='True label',\n",
        "       xlabel='Predicted label')\n",
        "\n",
        "# Rotate the tick labels and set their alignment.\n",
        "plt.setp(ax.get_xticklabels(), rotation=45, ha=\"right\",\n",
        "         rotation_mode=\"anchor\")\n",
        "\n",
        "# Loop over data dimensions and create text annotations.\n",
        "fmt = '.2f'\n",
        "thresh = cm.max() / 2.\n",
        "for i in range(cm.shape[0]):\n",
        "    for j in range(cm.shape[1]):\n",
        "        ax.text(j, i, format(cm[i, j], fmt),\n",
        "                ha=\"center\", va=\"center\",\n",
        "                color=\"white\" if cm[i, j] > thresh else \"black\")\n",
        "fig.tight_layout()"
      ],
      "outputs": [],
      "execution_count": null,
      "metadata": {
        "collapsed": false,
        "outputHidden": false,
        "inputHidden": false
      }
    },
    {
      "cell_type": "markdown",
      "source": [
        "## Generate predictions over the full image"
      ],
      "metadata": {}
    },
    {
      "cell_type": "code",
      "source": [],
      "outputs": [],
      "execution_count": null,
      "metadata": {
        "collapsed": false,
        "outputHidden": false,
        "inputHidden": false
      }
    },
    {
      "cell_type": "code",
      "source": [
        "# perform prediction on each small image patch to minimize required memory\n",
        "patch_size = 500\n",
        "\n",
        "# open connections to our input and output images\n",
        "with rasterio.open(raster_file, 'r') as src:\n",
        "    profile = src.profile\n",
        "    profile.update(\n",
        "        dtype=rasterio.uint8,\n",
        "        count=1,\n",
        "    )\n",
        "    with rasterio.open(output_image, 'w', **profile) as dst:\n",
        "        i = 3\n",
        "        j = 3\n",
        "    \n",
        "        # define the pixels to read (and write)\n",
        "        window = rasterio.windows.Window(\n",
        "            j * patch_size,\n",
        "            i * patch_size,\n",
        "            # don't read past the image bounds\n",
        "            min(patch_size, src.shape[1] - j * patch_size),\n",
        "            min(patch_size, src.shape[0] - i * patch_size)\n",
        "        )\n",
        "\n",
        "        data = src.read(window=window)\n",
        "        \n",
        "        # read the image into the proper format, adding indices if necessary\n",
        "        img_swp = np.moveaxis(data, 0, 2)\n",
        "        img_flat = img_swp.reshape(-1, img_swp.shape[-1])\n",
        "\n",
        "        img_ndvi = band_index(img_flat, 3, 2)\n",
        "        img_ndwi = band_index(img_flat, 1, 3)\n",
        "\n",
        "        img_w_ind = np.concatenate([img_flat, img_ndvi, img_ndwi], axis=1)\n",
        "        to_predict = np.nan_to_num(img_w_ind)\n",
        "\n",
        "        # predict\n",
        "        img_preds = clf.predict(to_predict)\n",
        "        \n",
        "        # add the prediction back to the output\n",
        "        # resize to the original image dimensions\n",
        "        output = img_preds.flatten()\n",
        "        output = output.reshape(*img_swp.shape[:-1])\n",
        "        \n",
        "        # visualize our result\n",
        "        plt.imshow(output)"
      ],
      "outputs": [],
      "execution_count": null,
      "metadata": {
        "collapsed": false,
        "outputHidden": false,
        "inputHidden": false
      }
    },
    {
      "cell_type": "code",
      "source": [
        "with rasterio.open(raster_file, 'r') as src:\n",
        "\n",
        "    i = 3\n",
        "    j = 3\n",
        "\n",
        "    # define the pixels to read (and write)\n",
        "    window = rasterio.windows.Window(\n",
        "        j * patch_size,\n",
        "        i * patch_size,\n",
        "        # don't read past the image bounds\n",
        "        min(patch_size, src.shape[1] - j * patch_size),\n",
        "        min(patch_size, src.shape[0] - i * patch_size)\n",
        "    )\n",
        "\n",
        "    data = src.read(window=window)\n",
        "    plt.imshow(np.moveaxis(data[:3], 0, 2))"
      ],
      "outputs": [],
      "execution_count": null,
      "metadata": {
        "collapsed": false,
        "outputHidden": false,
        "inputHidden": false
      }
    }
  ],
  "metadata": {
    "kernel_info": {
      "name": "query-planet37"
    },
    "language_info": {
      "name": "python",
      "version": "3.7.2",
      "mimetype": "text/x-python",
      "codemirror_mode": {
        "name": "ipython",
        "version": 3
      },
      "pygments_lexer": "ipython3",
      "nbconvert_exporter": "python",
      "file_extension": ".py"
    },
    "kernelspec": {
      "name": "query-planet37",
      "language": "python",
      "display_name": "Python Query Planet 3.7.2"
    },
    "nteract": {
      "version": "0.15.0"
    }
  },
  "nbformat": 4,
  "nbformat_minor": 0
}