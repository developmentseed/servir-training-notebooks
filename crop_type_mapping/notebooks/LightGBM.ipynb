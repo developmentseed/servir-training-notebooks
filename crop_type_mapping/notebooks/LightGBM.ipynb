{
  "nbformat": 4,
  "nbformat_minor": 0,
  "metadata": {
    "kernel_info": {
      "name": "query-planet37"
    },
    "kernelspec": {
      "display_name": "Python 3",
      "language": "python",
      "name": "python3"
    },
    "nteract": {
      "version": "0.15.0"
    },
    "colab": {
      "name": "LightGBM.ipynb",
      "provenance": [],
      "collapsed_sections": []
    }
  },
  "cells": [
    {
      "cell_type": "code",
      "metadata": {
        "id": "6JYSIu-905lM",
        "colab_type": "code",
        "colab": {}
      },
      "source": [
        "!pip install -q rasterio rasterstats geopandas treeinterpreter lightgbm"
      ],
      "execution_count": 0,
      "outputs": []
    },
    {
      "cell_type": "code",
      "metadata": {
        "inputHidden": false,
        "outputHidden": false,
        "id": "ZmQRJPcH0oNL",
        "colab_type": "code",
        "colab": {}
      },
      "source": [
        "import geopandas as gpd\n",
        "import matplotlib.pyplot as plt\n",
        "import numpy as np\n",
        "\n",
        "import lightgbm as lgb\n",
        "\n",
        "import rasterio\n",
        "import rasterstats\n",
        "from sklearn.metrics import confusion_matrix\n",
        "from sklearn.model_selection import train_test_split\n",
        "\n",
        "from os import path as op\n",
        "import pickle"
      ],
      "execution_count": 0,
      "outputs": []
    },
    {
      "cell_type": "code",
      "metadata": {
        "id": "uw1MvNkL2BE5",
        "colab_type": "code",
        "outputId": "cfbbc90e-faf2-49c0-ffe9-84548d865d46",
        "colab": {
          "base_uri": "https://localhost:8080/",
          "height": 34
        }
      },
      "source": [
        "from google.colab import drive\n",
        "drive.mount('/content/drive', force_remount=True)\n",
        "root_dir = \"/content/drive/My Drive\""
      ],
      "execution_count": 3,
      "outputs": [
        {
          "output_type": "stream",
          "text": [
            "Mounted at /content/drive\n"
          ],
          "name": "stdout"
        }
      ]
    },
    {
      "cell_type": "markdown",
      "metadata": {
        "id": "cYYI1YfE0oNR",
        "colab_type": "text"
      },
      "source": [
        "# Random Forest Model for Crop Type and Land Classification\n",
        "\n",
        "Using data created by SERVIR East Africa, RCMRD, and FEWSNET, we demonstrate how to train a LightGBM classifier over Trans Nzoia county, Kenya."
      ]
    },
    {
      "cell_type": "code",
      "metadata": {
        "inputHidden": false,
        "outputHidden": false,
        "id": "__o2qQdE0oNR",
        "colab_type": "code",
        "outputId": "8a034dec-c3b8-40a2-fca9-caaf425acdad",
        "colab": {
          "base_uri": "https://localhost:8080/",
          "height": 204
        }
      },
      "source": [
        "# read in training data\n",
        "training_vectors = gpd.read_file(op.join(root_dir, 'servir_croptype_workshop_data/training_data.geojson'))\n",
        "training_vectors.head()"
      ],
      "execution_count": 4,
      "outputs": [
        {
          "output_type": "execute_result",
          "data": {
            "text/html": [
              "<div>\n",
              "<style scoped>\n",
              "    .dataframe tbody tr th:only-of-type {\n",
              "        vertical-align: middle;\n",
              "    }\n",
              "\n",
              "    .dataframe tbody tr th {\n",
              "        vertical-align: top;\n",
              "    }\n",
              "\n",
              "    .dataframe thead th {\n",
              "        text-align: right;\n",
              "    }\n",
              "</style>\n",
              "<table border=\"1\" class=\"dataframe\">\n",
              "  <thead>\n",
              "    <tr style=\"text-align: right;\">\n",
              "      <th></th>\n",
              "      <th>name</th>\n",
              "      <th>description</th>\n",
              "      <th>geometry</th>\n",
              "    </tr>\n",
              "  </thead>\n",
              "  <tbody>\n",
              "    <tr>\n",
              "      <th>0</th>\n",
              "      <td>Shadow</td>\n",
              "      <td>None</td>\n",
              "      <td>MULTIPOLYGON (((34.83383 1.18204, 34.83577 1.1...</td>\n",
              "    </tr>\n",
              "    <tr>\n",
              "      <th>1</th>\n",
              "      <td>Forestland</td>\n",
              "      <td>None</td>\n",
              "      <td>MULTIPOLYGON (((35.30961 1.01328, 35.30964 1.0...</td>\n",
              "    </tr>\n",
              "    <tr>\n",
              "      <th>2</th>\n",
              "      <td>Maize</td>\n",
              "      <td>early reproductive</td>\n",
              "      <td>MULTIPOLYGON (((34.90904 1.09515, 34.90907 1.0...</td>\n",
              "    </tr>\n",
              "    <tr>\n",
              "      <th>3</th>\n",
              "      <td>Sugarcane</td>\n",
              "      <td>no change..maize farm on the right and far lef...</td>\n",
              "      <td>MULTIPOLYGON (((34.90750 1.08934, 34.90753 1.0...</td>\n",
              "    </tr>\n",
              "    <tr>\n",
              "      <th>4</th>\n",
              "      <td>Maize</td>\n",
              "      <td>reproductive good crop</td>\n",
              "      <td>MULTIPOLYGON (((34.87144 0.82953, 34.87147 0.8...</td>\n",
              "    </tr>\n",
              "  </tbody>\n",
              "</table>\n",
              "</div>"
            ],
            "text/plain": [
              "         name  ...                                           geometry\n",
              "0      Shadow  ...  MULTIPOLYGON (((34.83383 1.18204, 34.83577 1.1...\n",
              "1  Forestland  ...  MULTIPOLYGON (((35.30961 1.01328, 35.30964 1.0...\n",
              "2       Maize  ...  MULTIPOLYGON (((34.90904 1.09515, 34.90907 1.0...\n",
              "3   Sugarcane  ...  MULTIPOLYGON (((34.90750 1.08934, 34.90753 1.0...\n",
              "4       Maize  ...  MULTIPOLYGON (((34.87144 0.82953, 34.87147 0.8...\n",
              "\n",
              "[5 rows x 3 columns]"
            ]
          },
          "metadata": {
            "tags": []
          },
          "execution_count": 4
        }
      ]
    },
    {
      "cell_type": "code",
      "metadata": {
        "inputHidden": false,
        "outputHidden": false,
        "id": "LFMpu1PC0oNV",
        "colab_type": "code",
        "outputId": "dc6b6d9f-6bec-4275-9188-7e27f19985f6",
        "colab": {
          "base_uri": "https://localhost:8080/",
          "height": 51
        }
      },
      "source": [
        "# find all unique values of training data names to use as classes\n",
        "classes = np.unique(training_vectors.name)\n",
        "# classes = np.array(sorted(training_vectors.name.unique()))\n",
        "classes"
      ],
      "execution_count": 5,
      "outputs": [
        {
          "output_type": "execute_result",
          "data": {
            "text/plain": [
              "array(['Built', 'Cloud', 'Fallow', 'Forestland', 'Grassland', 'Maize',\n",
              "       'Shadow', 'Sugarcane', 'Sunflower', 'Waterbody'], dtype=object)"
            ]
          },
          "metadata": {
            "tags": []
          },
          "execution_count": 5
        }
      ]
    },
    {
      "cell_type": "code",
      "metadata": {
        "inputHidden": false,
        "outputHidden": false,
        "id": "2FRc2gpg0oNX",
        "colab_type": "code",
        "outputId": "43bf9096-5a6e-4123-c07b-a5852f68fb50",
        "colab": {
          "base_uri": "https://localhost:8080/",
          "height": 187
        }
      },
      "source": [
        "# create a dictionary to convert class names into integers for modeling\n",
        "class_dict = dict(zip(classes, range(len(classes))))\n",
        "class_dict                  "
      ],
      "execution_count": 6,
      "outputs": [
        {
          "output_type": "execute_result",
          "data": {
            "text/plain": [
              "{'Built': 0,\n",
              " 'Cloud': 1,\n",
              " 'Fallow': 2,\n",
              " 'Forestland': 3,\n",
              " 'Grassland': 4,\n",
              " 'Maize': 5,\n",
              " 'Shadow': 6,\n",
              " 'Sugarcane': 7,\n",
              " 'Sunflower': 8,\n",
              " 'Waterbody': 9}"
            ]
          },
          "metadata": {
            "tags": []
          },
          "execution_count": 6
        }
      ]
    },
    {
      "cell_type": "code",
      "metadata": {
        "inputHidden": false,
        "outputHidden": false,
        "id": "Tuz2ghqI0oNY",
        "colab_type": "code",
        "outputId": "1a7b2de9-2838-4618-8e5f-1503496573b5",
        "colab": {
          "base_uri": "https://localhost:8080/",
          "height": 51
        }
      },
      "source": [
        "%%time\n",
        "# this larger cell reads data from a raster file for each training vector\n",
        "import rasterio\n",
        "from rasterio.features import rasterize\n",
        "from rasterstats.io import bounds_window\n",
        "# raster information\n",
        "raster_file = op.join(root_dir, 'servir_croptype_workshop_data/Trans_nzoia_2019_05-02.tif')\n",
        "bands = 6\n",
        "\n",
        "# a custom function for getting each value from the raster\n",
        "def all_values(x):\n",
        "    return x\n",
        "\n",
        "# this larger cell reads data from a raster file for each training vector\n",
        "X_raw = []\n",
        "y_raw = []\n",
        "with rasterio.open(raster_file, 'r') as src:\n",
        "    for (label, geom) in zip(training_vectors.name, training_vectors.geometry):\n",
        "        # read the raster data matching the geometry bounds\n",
        "        window = bounds_window(geom.bounds, src.transform)\n",
        "        # store our window information\n",
        "        window_affine = src.window_transform(window)\n",
        "        fsrc = src.read(window=window)\n",
        "        # rasterize the (non-buffered) geometry into the larger shape and affine\n",
        "        mask = rasterize(\n",
        "            [(geom, 1)],\n",
        "            out_shape=fsrc.shape[1:],\n",
        "            transform=window_affine,\n",
        "            fill=0,\n",
        "            dtype='uint8',\n",
        "            all_touched=True\n",
        "        ).astype(bool)\n",
        "        # for each label pixel (places where the mask is true)...\n",
        "        label_pixels = np.argwhere(mask)\n",
        "        for (row, col) in label_pixels:\n",
        "            # add a pixel of data to X\n",
        "            data = fsrc[:,row,col]\n",
        "            one_x = np.nan_to_num(data, nan=1e-3)\n",
        "            X_raw.append(one_x)\n",
        "            # add the label to y\n",
        "            y_raw.append(class_dict[label])"
      ],
      "execution_count": 9,
      "outputs": [
        {
          "output_type": "stream",
          "text": [
            "CPU times: user 13.2 s, sys: 457 ms, total: 13.6 s\n",
            "Wall time: 20.4 s\n"
          ],
          "name": "stdout"
        }
      ]
    },
    {
      "cell_type": "code",
      "metadata": {
        "inputHidden": false,
        "outputHidden": false,
        "id": "TyvZj0F_0oNa",
        "colab_type": "code",
        "outputId": "9626e7f6-0d3d-42c0-b976-98cf8972e141",
        "colab": {
          "base_uri": "https://localhost:8080/",
          "height": 34
        }
      },
      "source": [
        "# convert the training data lists into the appropriate shape and format for scikit-learn\n",
        "X = np.array(X_raw)\n",
        "y = np.array(y_raw)\n",
        "(X.shape, y.shape)"
      ],
      "execution_count": 10,
      "outputs": [
        {
          "output_type": "execute_result",
          "data": {
            "text/plain": [
              "((160461, 6), (160461,))"
            ]
          },
          "metadata": {
            "tags": []
          },
          "execution_count": 10
        }
      ]
    },
    {
      "cell_type": "code",
      "metadata": {
        "inputHidden": false,
        "outputHidden": false,
        "id": "tJ4YWY5M0oNc",
        "colab_type": "code",
        "outputId": "fe72662c-b592-475e-9f8e-1f6644db4cd2",
        "colab": {
          "base_uri": "https://localhost:8080/",
          "height": 34
        }
      },
      "source": [
        "# (optional) add extra band indices\n",
        "\n",
        "# helper function for calculating ND*I indices (bands in the final dimension)\n",
        "def band_index(arr, a, b):\n",
        "    return np.expand_dims((arr[..., a] - arr[..., b]) / (arr[..., a] + arr[..., b]), axis=1)\n",
        "\n",
        "ndvi = band_index(X, 3, 2)\n",
        "ndwi = band_index(X, 1, 3)\n",
        "\n",
        "X = np.concatenate([X, ndvi, ndwi], axis=1)\n",
        "X.shape"
      ],
      "execution_count": 11,
      "outputs": [
        {
          "output_type": "execute_result",
          "data": {
            "text/plain": [
              "(160461, 8)"
            ]
          },
          "metadata": {
            "tags": []
          },
          "execution_count": 11
        }
      ]
    },
    {
      "cell_type": "code",
      "metadata": {
        "inputHidden": false,
        "outputHidden": false,
        "id": "6agtXCDh0oNe",
        "colab_type": "code",
        "colab": {}
      },
      "source": [
        "# split the data into test and train sets\n",
        "X_train, X_test, y_train, y_test = train_test_split(X, y, test_size=0.2, random_state=42)"
      ],
      "execution_count": 0,
      "outputs": []
    },
    {
      "cell_type": "code",
      "metadata": {
        "inputHidden": false,
        "outputHidden": false,
        "id": "9QetQBP40oNh",
        "colab_type": "code",
        "outputId": "25b263d6-8360-451f-e1e1-c22fc57bc019",
        "colab": {
          "base_uri": "https://localhost:8080/",
          "height": 187
        }
      },
      "source": [
        "# calculate class weights to allow for training on inbalanced training samples\n",
        "labels, counts = np.unique(y_train, return_counts=True)\n",
        "class_weight_dict = dict(zip(labels, 1 / counts))\n",
        "class_weight_dict"
      ],
      "execution_count": 13,
      "outputs": [
        {
          "output_type": "execute_result",
          "data": {
            "text/plain": [
              "{0: 0.00046882325363338024,\n",
              " 1: 0.001597444089456869,\n",
              " 2: 0.0004928536224741252,\n",
              " 3: 1.970093973482535e-05,\n",
              " 4: 0.000819000819000819,\n",
              " 5: 1.5704257424187697e-05,\n",
              " 6: 0.0002473410833539451,\n",
              " 7: 0.0002824858757062147,\n",
              " 8: 0.05263157894736842,\n",
              " 9: 0.003115264797507788}"
            ]
          },
          "metadata": {
            "tags": []
          },
          "execution_count": 13
        }
      ]
    },
    {
      "cell_type": "code",
      "metadata": {
        "inputHidden": false,
        "outputHidden": false,
        "id": "JSuV7EVB0oNk",
        "colab_type": "code",
        "outputId": "68924c01-e1ce-4943-eb9f-ce90288b201d",
        "colab": {
          "base_uri": "https://localhost:8080/",
          "height": 51
        }
      },
      "source": [
        "%%time\n",
        "# initialize a lightgbm\n",
        "\n",
        "\n",
        "lgbm = lgb.LGBMClassifier(\n",
        "       objective='multiclass',\n",
        "       class_weight = class_weight_dict,\n",
        "       num_class = len(class_dict),\n",
        "       metric = 'multi_logloss')"
      ],
      "execution_count": 14,
      "outputs": [
        {
          "output_type": "stream",
          "text": [
            "CPU times: user 79 µs, sys: 5 µs, total: 84 µs\n",
            "Wall time: 90.4 µs\n"
          ],
          "name": "stdout"
        }
      ]
    },
    {
      "cell_type": "code",
      "metadata": {
        "inputHidden": false,
        "outputHidden": false,
        "id": "LXNiSfos0oNm",
        "colab_type": "code",
        "outputId": "879b428c-3975-4d37-eea6-c08c45b1a01a",
        "colab": {
          "base_uri": "https://localhost:8080/",
          "height": 221
        }
      },
      "source": [
        "# fit the model to the data (training)\n",
        "lgbm.fit(X_train, y_train)"
      ],
      "execution_count": 15,
      "outputs": [
        {
          "output_type": "execute_result",
          "data": {
            "text/plain": [
              "LGBMClassifier(boosting_type='gbdt',\n",
              "               class_weight={0: 0.00046882325363338024, 1: 0.001597444089456869,\n",
              "                             2: 0.0004928536224741252, 3: 1.970093973482535e-05,\n",
              "                             4: 0.000819000819000819, 5: 1.5704257424187697e-05,\n",
              "                             6: 0.0002473410833539451, 7: 0.0002824858757062147,\n",
              "                             8: 0.05263157894736842, 9: 0.003115264797507788},\n",
              "               colsample_bytree=1.0, importance_type='split', learning_rate=0.1,\n",
              "               max_depth=-1, metric='multi_logloss', min_child_samples=20,\n",
              "               min_child_weight=0.001, min_split_gain=0.0, n_estimators=100,\n",
              "               n_jobs=-1, num_class=10, num_leaves=31, objective='multiclass',\n",
              "               random_state=None, reg_alpha=0.0, reg_lambda=0.0, silent=True,\n",
              "               subsample=1.0, subsample_for_bin=200000, subsample_freq=0)"
            ]
          },
          "metadata": {
            "tags": []
          },
          "execution_count": 15
        }
      ]
    },
    {
      "cell_type": "code",
      "metadata": {
        "inputHidden": false,
        "outputHidden": false,
        "id": "25pMSxGp0oNo",
        "colab_type": "code",
        "colab": {}
      },
      "source": [
        "# predict on X_test to evaluate the model\n",
        "preds = lgbm.predict(X_test)\n",
        "cm = confusion_matrix(y_test, preds, labels=labels)"
      ],
      "execution_count": 0,
      "outputs": []
    },
    {
      "cell_type": "code",
      "metadata": {
        "id": "EhFM39HK-5NC",
        "colab_type": "code",
        "colab": {}
      },
      "source": [
        "model_name = 'light_gbm.sav'\n",
        "pickle.dump(lgbm, open(op.join(root_dir, model_name), 'wb'))\n"
      ],
      "execution_count": 0,
      "outputs": []
    },
    {
      "cell_type": "code",
      "metadata": {
        "inputHidden": false,
        "outputHidden": false,
        "id": "COjyzKe00oNq",
        "colab_type": "code",
        "outputId": "305ff914-83c5-4043-89f5-0a26d2ffc84f",
        "colab": {
          "base_uri": "https://localhost:8080/",
          "height": 729
        }
      },
      "source": [
        "# plot the confusion matrix\n",
        "%matplotlib inline\n",
        "cm = cm.astype('float') / cm.sum(axis=1)[:, np.newaxis]\n",
        "fig, ax = plt.subplots(figsize=(10, 10))\n",
        "im = ax.imshow(cm, interpolation='nearest', cmap=plt.cm.Blues)\n",
        "ax.figure.colorbar(im, ax=ax)\n",
        "# We want to show all ticks...\n",
        "ax.set(xticks=np.arange(cm.shape[1]),\n",
        "       yticks=np.arange(cm.shape[0]),\n",
        "       # ... and label them with the respective list entries\n",
        "       xticklabels=classes, yticklabels=classes,\n",
        "       title='Normalized Confusion Matrix',\n",
        "       ylabel='True label',\n",
        "       xlabel='Predicted label')\n",
        "\n",
        "# Rotate the tick labels and set their alignment.\n",
        "plt.setp(ax.get_xticklabels(), rotation=45, ha=\"right\",\n",
        "         rotation_mode=\"anchor\")\n",
        "\n",
        "# Loop over data dimensions and create text annotations.\n",
        "fmt = '.2f'\n",
        "thresh = cm.max() / 2.\n",
        "for i in range(cm.shape[0]):\n",
        "    for j in range(cm.shape[1]):\n",
        "        ax.text(j, i, format(cm[i, j], fmt),\n",
        "                ha=\"center\", va=\"center\",\n",
        "                color=\"white\" if cm[i, j] > thresh else \"black\")\n",
        "fig.tight_layout()"
      ],
      "execution_count": 18,
      "outputs": [
        {
          "output_type": "display_data",
          "data": {
            "image/png": "[encoded data removed]",
            "text/plain": [
              "<Figure size 720x720 with 2 Axes>"
            ]
          },
          "metadata": {
            "tags": []
          }
        }
      ]
    },
    {
      "cell_type": "markdown",
      "metadata": {
        "id": "jF5FtgwM0oN0",
        "colab_type": "text"
      },
      "source": [
        "## Generate predictions over the full image"
      ]
    },
    {
      "cell_type": "code",
      "metadata": {
        "id": "FKCEa-hXqgmN",
        "colab_type": "code",
        "colab": {}
      },
      "source": [
        "# if want to use the pretrained model for new imagery\n",
        "\n",
        "# helper function for calculating ND*I indices (bands in the final dimension)\n",
        "# match the pretrained model weight with the saved model above\n",
        "model_name = 'light_gbm.sav'\n",
        "\n",
        "def band_index(arr, a, b):\n",
        "    return np.expand_dims((arr[..., a] - arr[..., b]) / (arr[..., a] + arr[..., b]), axis=1)\n",
        "  \n",
        "lgbm = pickle.load(open(op.join(root_dir, model_name), 'rb'))"
      ],
      "execution_count": 0,
      "outputs": []
    },
    {
      "cell_type": "code",
      "metadata": {
        "id": "kbVo745N-S9G",
        "colab_type": "code",
        "outputId": "c590b681-fd40-4bb9-fce9-6daefa096c10",
        "colab": {
          "base_uri": "https://localhost:8080/",
          "height": 221
        }
      },
      "source": [
        "lgbm"
      ],
      "execution_count": 20,
      "outputs": [
        {
          "output_type": "execute_result",
          "data": {
            "text/plain": [
              "LGBMClassifier(boosting_type='gbdt',\n",
              "               class_weight={0: 0.00046882325363338024, 1: 0.001597444089456869,\n",
              "                             2: 0.0004928536224741252, 3: 1.970093973482535e-05,\n",
              "                             4: 0.000819000819000819, 5: 1.5704257424187697e-05,\n",
              "                             6: 0.0002473410833539451, 7: 0.0002824858757062147,\n",
              "                             8: 0.05263157894736842, 9: 0.003115264797507788},\n",
              "               colsample_bytree=1.0, importance_type='split', learning_rate=0.1,\n",
              "               max_depth=-1, metric='multi_logloss', min_child_samples=20,\n",
              "               min_child_weight=0.001, min_split_gain=0.0, n_estimators=100,\n",
              "               n_jobs=-1, num_class=10, num_leaves=31, objective='multiclass',\n",
              "               random_state=None, reg_alpha=0.0, reg_lambda=0.0, silent=True,\n",
              "               subsample=1.0, subsample_for_bin=200000, subsample_freq=0)"
            ]
          },
          "metadata": {
            "tags": []
          },
          "execution_count": 20
        }
      ]
    },
    {
      "cell_type": "code",
      "metadata": {
        "id": "QEA_rsWuCmi_",
        "colab_type": "code",
        "colab": {}
      },
      "source": [
        "# src.close()\n",
        "# dst.close()"
      ],
      "execution_count": 0,
      "outputs": []
    },
    {
      "cell_type": "code",
      "metadata": {
        "inputHidden": false,
        "outputHidden": false,
        "id": "vmD5HXr50oN8",
        "colab_type": "code",
        "colab": {}
      },
      "source": [
        "# if want to use the pretrained model for new imagery\n",
        "# The pretrained model is called \"random_forest.sav\"\n",
        "# helper function for calculating ND*I indices (bands in the final dimension)\n",
        "\n",
        "# open connections to our input and output images\n",
        "\n",
        "# new_image = op.join(root_dir, 'Trans_nzoia_2019_10-04.tif')\n",
        "new_image = raster_file\n",
        "output_image = op.join(root_dir, \"lgbm_classification.tif\")\n",
        "src = rasterio.open(new_image, 'r')\n",
        "profile = src.profile\n",
        "profile.update(\n",
        "    dtype=rasterio.uint8,\n",
        "    count=1,\n",
        ")\n",
        "dst = rasterio.open(output_image, 'w', **profile)\n",
        "\n",
        "# perform prediction on each small image patch to minimize required memory\n",
        "patch_size = 500\n",
        "\n",
        "for i in range((src.shape[0] // patch_size) + 1):\n",
        "    for j in range((src.shape[1] // patch_size) + 1):\n",
        "        # define the pixels to read (and write)\n",
        "        window = rasterio.windows.Window(\n",
        "            j * patch_size,\n",
        "            i * patch_size,\n",
        "            # don't read past the image bounds\n",
        "            min(patch_size, src.shape[1] - j * patch_size),\n",
        "            min(patch_size, src.shape[0] - i * patch_size)\n",
        "        )\n",
        "        \n",
        "        data = src.read(window=window)\n",
        "        # read the image into the proper format, adding indices if necessary\n",
        "        img_swp = np.moveaxis(data, 0, 2)\n",
        "        img_flat = img_swp.reshape(-1, img_swp.shape[-1])\n",
        "\n",
        "        img_ndvi = band_index(img_flat, 3, 2)\n",
        "        img_ndwi = band_index(img_flat, 1, 3)\n",
        "\n",
        "        img_w_ind = np.concatenate([img_flat, img_ndvi, img_ndwi], axis=1)\n",
        "\n",
        "        # remove no data values, store the indices for later use\n",
        "        # a later cell makes the assumption that all bands have identical no-data value arrangements\n",
        "        m = np.ma.masked_invalid(img_w_ind)\n",
        "        to_predict = img_w_ind[~m.mask].reshape(-1, img_w_ind.shape[-1])\n",
        "        \n",
        "        # predict\n",
        "        if not len(to_predict):\n",
        "            continue\n",
        "        img_preds = lgbm.predict(to_predict)\n",
        "        \n",
        "        # add the prediction back to the valid pixels (using only the first band of the mask to decide on validity)\n",
        "        # resize to the original image dimensions\n",
        "        output = np.zeros(img_flat.shape[0])\n",
        "        output[~m.mask[:,0]] = img_preds.flatten()\n",
        "        output = output.reshape(*img_swp.shape[:-1])\n",
        "        \n",
        "        # create our final mask\n",
        "        mask = (~m.mask[:,0]).reshape(*img_swp.shape[:-1])\n",
        "\n",
        "        # write to the final file\n",
        "        dst.write(output.astype(rasterio.uint8), 1, window=window)\n",
        "        dst.write_mask(mask, window=window)\n",
        "        # write to the final file\n",
        "        dst.write(output.astype(rasterio.uint8), 1, window=window)\n",
        "        dst.write_mask(mask, window=window)\n",
        "\n",
        "src.close()\n",
        "dst.close()"
      ],
      "execution_count": 0,
      "outputs": []
    },
    {
      "cell_type": "code",
      "metadata": {
        "id": "rTORxEa038_C",
        "colab_type": "code",
        "colab": {}
      },
      "source": [
        ""
      ],
      "execution_count": 0,
      "outputs": []
    }
  ]
}