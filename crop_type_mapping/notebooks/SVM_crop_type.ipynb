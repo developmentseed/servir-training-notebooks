{
  "nbformat": 4,
  "nbformat_minor": 0,
  "metadata": {
    "kernel_info": {
      "name": "query-planet37"
    },
    "kernelspec": {
      "display_name": "Python 3",
      "language": "python",
      "name": "python3"
    },
    "nteract": {
      "version": "0.15.0"
    },
    "colab": {
      "name": "SVM-crop_type.ipynb",
      "provenance": [],
      "collapsed_sections": []
    }
  },
  "cells": [
    {
      "cell_type": "code",
      "metadata": {
        "id": "6JYSIu-905lM",
        "colab_type": "code",
        "outputId": "b62ea246-bd0d-4607-b72f-7d60b0c09a0e",
        "colab": {
          "base_uri": "https://localhost:8080/",
          "height": 136
        }
      },
      "source": [
        "!pip install -q rasterio rasterstats geopandas "
      ],
      "execution_count": 0,
      "outputs": [
        {
          "output_type": "stream",
          "text": [
            "\u001b[K     |████████████████████████████████| 15.1MB 15.0MB/s \n",
            "\u001b[K     |████████████████████████████████| 921kB 22.8MB/s \n",
            "\u001b[K     |████████████████████████████████| 11.9MB 17.7MB/s \n",
            "\u001b[K     |████████████████████████████████| 81kB 21.3MB/s \n",
            "\u001b[K     |████████████████████████████████| 10.1MB 18.6MB/s \n",
            "\u001b[?25h  Building wheel for simplejson (setup.py) ... \u001b[?25l\u001b[?25hdone\n",
            "  Building wheel for munch (setup.py) ... \u001b[?25l\u001b[?25hdone\n"
          ],
          "name": "stdout"
        }
      ]
    },
    {
      "cell_type": "code",
      "metadata": {
        "inputHidden": false,
        "outputHidden": false,
        "id": "ZmQRJPcH0oNL",
        "colab_type": "code",
        "colab": {}
      },
      "source": [
        "import geopandas as gpd\n",
        "import matplotlib.pyplot as plt\n",
        "import numpy as np\n",
        "\n",
        "from sklearn import svm\n",
        "\n",
        "import rasterio\n",
        "import rasterstats\n",
        "from sklearn.metrics import confusion_matrix\n",
        "from sklearn.model_selection import train_test_split\n",
        "from sklearn.ensemble import RandomForestClassifier\n",
        "from os import path as op\n",
        "import pickle"
      ],
      "execution_count": 0,
      "outputs": []
    },
    {
      "cell_type": "code",
      "metadata": {
        "id": "uw1MvNkL2BE5",
        "colab_type": "code",
        "outputId": "e382aa48-3a9c-490a-c05f-6ea2d0904fc1",
        "colab": {
          "base_uri": "https://localhost:8080/",
          "height": 122
        }
      },
      "source": [
        "from google.colab import drive\n",
        "drive.mount('/content/drive', force_remount=True)\n",
        "root_dir = \"/content/drive/My Drive\""
      ],
      "execution_count": 0,
      "outputs": [
        {
          "output_type": "stream",
          "text": [
            "Go to this URL in a browser: https://accounts.google.com/o/oauth2/auth?client_id=947318989803-6bn6qk8qdgf4n4g3pfee6491hc0brc4i.apps.googleusercontent.com&redirect_uri=urn%3Aietf%3Awg%3Aoauth%3A2.0%3Aoob&scope=email%20https%3A%2F%2Fwww.googleapis.com%2Fauth%2Fdocs.test%20https%3A%2F%2Fwww.googleapis.com%2Fauth%2Fdrive%20https%3A%2F%2Fwww.googleapis.com%2Fauth%2Fdrive.photos.readonly%20https%3A%2F%2Fwww.googleapis.com%2Fauth%2Fpeopleapi.readonly&response_type=code\n",
            "\n",
            "Enter your authorization code:\n",
            "··········\n",
            "Mounted at /content/drive\n"
          ],
          "name": "stdout"
        }
      ]
    },
    {
      "cell_type": "markdown",
      "metadata": {
        "id": "cYYI1YfE0oNR",
        "colab_type": "text"
      },
      "source": [
        "# Random Forest Model for Crop Type and Land Classification\n",
        "\n",
        "Using data created by SERVIR East Africa, RCMRD, and FEWSET, we demonstrate how to train a Random Forest classifier over Trans Nzoia county, Kenya."
      ]
    },
    {
      "cell_type": "code",
      "metadata": {
        "inputHidden": false,
        "outputHidden": false,
        "id": "__o2qQdE0oNR",
        "colab_type": "code",
        "outputId": "621cdb44-5e02-4b5f-823e-b2179123b961",
        "colab": {
          "base_uri": "https://localhost:8080/",
          "height": 459
        }
      },
      "source": [
        "# read in training data\n",
        "training_vectors = gpd.read_file(op.join(root_dir, 'servir-day5-gee-colab/training_combined.geojson'))\n",
        "training_vectors.head()"
      ],
      "execution_count": 0,
      "outputs": [
        {
          "output_type": "execute_result",
          "data": {
            "text/html": [
              "<div>\n",
              "<style scoped>\n",
              "    .dataframe tbody tr th:only-of-type {\n",
              "        vertical-align: middle;\n",
              "    }\n",
              "\n",
              "    .dataframe tbody tr th {\n",
              "        vertical-align: top;\n",
              "    }\n",
              "\n",
              "    .dataframe thead th {\n",
              "        text-align: right;\n",
              "    }\n",
              "</style>\n",
              "<table border=\"1\" class=\"dataframe\">\n",
              "  <thead>\n",
              "    <tr style=\"text-align: right;\">\n",
              "      <th></th>\n",
              "      <th>name</th>\n",
              "      <th>descripti</th>\n",
              "      <th>altitude</th>\n",
              "      <th>RTKStation</th>\n",
              "      <th>BUFF_DIST</th>\n",
              "      <th>ORIG_FID</th>\n",
              "      <th>OBJECTID_1</th>\n",
              "      <th>OBJECTID</th>\n",
              "      <th>Id</th>\n",
              "      <th>gridcode</th>\n",
              "      <th>Class</th>\n",
              "      <th>Shape_Leng</th>\n",
              "      <th>Shape_Area</th>\n",
              "      <th>geometry</th>\n",
              "    </tr>\n",
              "  </thead>\n",
              "  <tbody>\n",
              "    <tr>\n",
              "      <th>0</th>\n",
              "      <td>Sugarcane</td>\n",
              "      <td>None</td>\n",
              "      <td>-1.0000</td>\n",
              "      <td>1</td>\n",
              "      <td>20.0</td>\n",
              "      <td>0.0</td>\n",
              "      <td>NaN</td>\n",
              "      <td>NaN</td>\n",
              "      <td>NaN</td>\n",
              "      <td>NaN</td>\n",
              "      <td>None</td>\n",
              "      <td>NaN</td>\n",
              "      <td>NaN</td>\n",
              "      <td>MULTIPOLYGON (((34.83212 1.17829, 34.83215 1.1...</td>\n",
              "    </tr>\n",
              "    <tr>\n",
              "      <th>1</th>\n",
              "      <td>Forestland</td>\n",
              "      <td>None</td>\n",
              "      <td>-1.0000</td>\n",
              "      <td>1</td>\n",
              "      <td>20.0</td>\n",
              "      <td>1.0</td>\n",
              "      <td>NaN</td>\n",
              "      <td>NaN</td>\n",
              "      <td>NaN</td>\n",
              "      <td>NaN</td>\n",
              "      <td>None</td>\n",
              "      <td>NaN</td>\n",
              "      <td>NaN</td>\n",
              "      <td>MULTIPOLYGON (((35.30961 1.01328, 35.30964 1.0...</td>\n",
              "    </tr>\n",
              "    <tr>\n",
              "      <th>2</th>\n",
              "      <td>Maize</td>\n",
              "      <td>early reproductive</td>\n",
              "      <td>-1.0000</td>\n",
              "      <td>1</td>\n",
              "      <td>20.0</td>\n",
              "      <td>2.0</td>\n",
              "      <td>NaN</td>\n",
              "      <td>NaN</td>\n",
              "      <td>NaN</td>\n",
              "      <td>NaN</td>\n",
              "      <td>None</td>\n",
              "      <td>NaN</td>\n",
              "      <td>NaN</td>\n",
              "      <td>MULTIPOLYGON (((34.90904 1.09515, 34.90907 1.0...</td>\n",
              "    </tr>\n",
              "    <tr>\n",
              "      <th>3</th>\n",
              "      <td>Sugarcane</td>\n",
              "      <td>no change..maize farm on the right and far lef...</td>\n",
              "      <td>-1.0000</td>\n",
              "      <td>1</td>\n",
              "      <td>20.0</td>\n",
              "      <td>3.0</td>\n",
              "      <td>NaN</td>\n",
              "      <td>NaN</td>\n",
              "      <td>NaN</td>\n",
              "      <td>NaN</td>\n",
              "      <td>None</td>\n",
              "      <td>NaN</td>\n",
              "      <td>NaN</td>\n",
              "      <td>MULTIPOLYGON (((34.90750 1.08934, 34.90753 1.0...</td>\n",
              "    </tr>\n",
              "    <tr>\n",
              "      <th>4</th>\n",
              "      <td>Maize</td>\n",
              "      <td>reproductive good crop</td>\n",
              "      <td>1763.4144</td>\n",
              "      <td>1</td>\n",
              "      <td>20.0</td>\n",
              "      <td>4.0</td>\n",
              "      <td>NaN</td>\n",
              "      <td>NaN</td>\n",
              "      <td>NaN</td>\n",
              "      <td>NaN</td>\n",
              "      <td>None</td>\n",
              "      <td>NaN</td>\n",
              "      <td>NaN</td>\n",
              "      <td>MULTIPOLYGON (((34.87144 0.82953, 34.87147 0.8...</td>\n",
              "    </tr>\n",
              "  </tbody>\n",
              "</table>\n",
              "</div>"
            ],
            "text/plain": [
              "         name  ...                                           geometry\n",
              "0   Sugarcane  ...  MULTIPOLYGON (((34.83212 1.17829, 34.83215 1.1...\n",
              "1  Forestland  ...  MULTIPOLYGON (((35.30961 1.01328, 35.30964 1.0...\n",
              "2       Maize  ...  MULTIPOLYGON (((34.90904 1.09515, 34.90907 1.0...\n",
              "3   Sugarcane  ...  MULTIPOLYGON (((34.90750 1.08934, 34.90753 1.0...\n",
              "4       Maize  ...  MULTIPOLYGON (((34.87144 0.82953, 34.87147 0.8...\n",
              "\n",
              "[5 rows x 14 columns]"
            ]
          },
          "metadata": {
            "tags": []
          },
          "execution_count": 5
        }
      ]
    },
    {
      "cell_type": "code",
      "metadata": {
        "inputHidden": false,
        "outputHidden": false,
        "id": "LFMpu1PC0oNV",
        "colab_type": "code",
        "outputId": "7622b795-0b54-4c18-8901-f72d917adb09",
        "colab": {
          "base_uri": "https://localhost:8080/",
          "height": 51
        }
      },
      "source": [
        "# find all unique values of training data names to use as classes\n",
        "classes = np.unique(training_vectors.name)\n",
        "# classes = np.array(sorted(training_vectors.name.unique()))\n",
        "classes"
      ],
      "execution_count": 0,
      "outputs": [
        {
          "output_type": "execute_result",
          "data": {
            "text/plain": [
              "array(['Built', 'Cloud', 'Fallow', 'Forestland', 'Grassland', 'Maize',\n",
              "       'Shadow', 'Sugarcane', 'Sunflower', 'Waterbody'], dtype=object)"
            ]
          },
          "metadata": {
            "tags": []
          },
          "execution_count": 6
        }
      ]
    },
    {
      "cell_type": "code",
      "metadata": {
        "inputHidden": false,
        "outputHidden": false,
        "id": "2FRc2gpg0oNX",
        "colab_type": "code",
        "outputId": "9f57d46f-0c57-4526-f7b1-d77980e781cf",
        "colab": {
          "base_uri": "https://localhost:8080/",
          "height": 187
        }
      },
      "source": [
        "# create a dictionary to convert class names into integers for modeling\n",
        "class_dict = dict(zip(classes, range(len(classes))))\n",
        "class_dict                  "
      ],
      "execution_count": 0,
      "outputs": [
        {
          "output_type": "execute_result",
          "data": {
            "text/plain": [
              "{'Built': 0,\n",
              " 'Cloud': 1,\n",
              " 'Fallow': 2,\n",
              " 'Forestland': 3,\n",
              " 'Grassland': 4,\n",
              " 'Maize': 5,\n",
              " 'Shadow': 6,\n",
              " 'Sugarcane': 7,\n",
              " 'Sunflower': 8,\n",
              " 'Waterbody': 9}"
            ]
          },
          "metadata": {
            "tags": []
          },
          "execution_count": 7
        }
      ]
    },
    {
      "cell_type": "code",
      "metadata": {
        "inputHidden": false,
        "outputHidden": false,
        "id": "Tuz2ghqI0oNY",
        "colab_type": "code",
        "outputId": "6500bae3-5abc-48f4-a70c-6539acc887c7",
        "colab": {
          "base_uri": "https://localhost:8080/",
          "height": 51
        }
      },
      "source": [
        "# this larger cell reads data from a raster file for each training vector\n",
        "\n",
        "# raster information\n",
        "raster_file = op.join(root_dir, 'servir-day2/Trans_nzoia_2019_05_02.tif')\n",
        "bands = 6\n",
        "\n",
        "# a custom function for getting each value from the raster\n",
        "def all_values(x):\n",
        "    return x\n",
        "\n",
        "# set up our training data lists\n",
        "X_raw = list(range(bands))\n",
        "y_raw = []\n",
        "\n",
        "for band in range(bands):\n",
        "    X_raw[band] = []\n",
        "    \n",
        "    # for each band and each training vector geometry, read the corresponding raster data\n",
        "    stats = rasterstats.zonal_stats(\n",
        "        training_vectors.geometry,\n",
        "        raster_file,\n",
        "        add_stats={'all_values':all_values},\n",
        "        band=band+1\n",
        "    )\n",
        "    \n",
        "    # for each returned value, store the valid observations and a\n",
        "    # corresponding number of vector labels\n",
        "    for idx, stat in enumerate(stats):\n",
        "        vals = stat['all_values']\n",
        "        obs = list(vals.data[~vals.mask])\n",
        "        X_raw[band] += obs\n",
        "        if band == 0:\n",
        "            y_raw += [class_dict[training_vectors.name.iloc[idx]] for _ in obs]\n",
        "\n"
      ],
      "execution_count": 0,
      "outputs": [
        {
          "output_type": "stream",
          "text": [
            "/usr/local/lib/python3.6/dist-packages/rasterstats/io.py:300: UserWarning: Setting nodata to -999; specify nodata explicitly\n",
            "  warnings.warn(\"Setting nodata to -999; specify nodata explicitly\")\n"
          ],
          "name": "stderr"
        }
      ]
    },
    {
      "cell_type": "code",
      "metadata": {
        "inputHidden": false,
        "outputHidden": false,
        "id": "TyvZj0F_0oNa",
        "colab_type": "code",
        "outputId": "6c53feab-a6af-4a09-9cb4-a3658186e0ea",
        "colab": {
          "base_uri": "https://localhost:8080/",
          "height": 34
        }
      },
      "source": [
        "# convert the training data lists into the appropriate shape and format for scikit-learn\n",
        "X = np.array(X_raw).swapaxes(0, 1)\n",
        "y = np.array(y_raw)\n",
        "(X.shape, y.shape)"
      ],
      "execution_count": 0,
      "outputs": [
        {
          "output_type": "execute_result",
          "data": {
            "text/plain": [
              "((143737, 6), (143737,))"
            ]
          },
          "metadata": {
            "tags": []
          },
          "execution_count": 9
        }
      ]
    },
    {
      "cell_type": "code",
      "metadata": {
        "inputHidden": false,
        "outputHidden": false,
        "id": "tJ4YWY5M0oNc",
        "colab_type": "code",
        "outputId": "e0846693-7a50-40ac-ef53-1fe02731147c",
        "colab": {
          "base_uri": "https://localhost:8080/",
          "height": 34
        }
      },
      "source": [
        "# (optional) add extra band indices\n",
        "\n",
        "# helper function for calculating ND*I indices (bands in the final dimension)\n",
        "def band_index(arr, a, b):\n",
        "    return np.expand_dims((arr[..., a] - arr[..., b]) / (arr[..., a] + arr[..., b]), axis=1)\n",
        "\n",
        "ndvi = band_index(X, 3, 2)\n",
        "ndwi = band_index(X, 1, 3)\n",
        "\n",
        "X = np.concatenate([X, ndvi, ndwi], axis=1)\n",
        "X.shape"
      ],
      "execution_count": 0,
      "outputs": [
        {
          "output_type": "execute_result",
          "data": {
            "text/plain": [
              "(143737, 8)"
            ]
          },
          "metadata": {
            "tags": []
          },
          "execution_count": 10
        }
      ]
    },
    {
      "cell_type": "code",
      "metadata": {
        "inputHidden": false,
        "outputHidden": false,
        "id": "6agtXCDh0oNe",
        "colab_type": "code",
        "colab": {}
      },
      "source": [
        "# split the data into test and train sets\n",
        "X_train, X_test, y_train, y_test = train_test_split(X, y, test_size=0.2, random_state=42)"
      ],
      "execution_count": 0,
      "outputs": []
    },
    {
      "cell_type": "code",
      "metadata": {
        "inputHidden": false,
        "outputHidden": false,
        "id": "9QetQBP40oNh",
        "colab_type": "code",
        "outputId": "d81aa538-5ba7-456a-aca9-60dbff4ad5a9",
        "colab": {
          "base_uri": "https://localhost:8080/",
          "height": 187
        }
      },
      "source": [
        "# calculate class weights to allow for training on inbalanced training samples\n",
        "labels, counts = np.unique(y_train, return_counts=True)\n",
        "class_weight_dict = dict(zip(labels, 1 / counts))\n",
        "class_weight_dict"
      ],
      "execution_count": 0,
      "outputs": [
        {
          "output_type": "execute_result",
          "data": {
            "text/plain": [
              "{0: 0.0045662100456621,\n",
              " 1: 0.006369426751592357,\n",
              " 2: 0.00211864406779661,\n",
              " 3: 2.1707984196587506e-05,\n",
              " 4: 0.0009775171065493646,\n",
              " 5: 1.7588293232024764e-05,\n",
              " 6: 0.00048520135856380397,\n",
              " 7: 0.000126806999746386,\n",
              " 8: 0.1,\n",
              " 9: 0.0041841004184100415}"
            ]
          },
          "metadata": {
            "tags": []
          },
          "execution_count": 13
        }
      ]
    },
    {
      "cell_type": "code",
      "metadata": {
        "inputHidden": false,
        "outputHidden": false,
        "id": "JSuV7EVB0oNk",
        "colab_type": "code",
        "outputId": "696d1a46-735e-4606-dcba-01dc1157c6d2",
        "colab": {
          "base_uri": "https://localhost:8080/",
          "height": 51
        }
      },
      "source": [
        "%%time\n",
        "# initialize a lightgbm\n",
        "\n",
        "\n",
        "svm = svm.SVC(class_weight = class_weight_dict, gamma='scale', decision_function_shape='ovo')"
      ],
      "execution_count": 0,
      "outputs": [
        {
          "output_type": "stream",
          "text": [
            "CPU times: user 47 µs, sys: 4 µs, total: 51 µs\n",
            "Wall time: 54.4 µs\n"
          ],
          "name": "stdout"
        }
      ]
    },
    {
      "cell_type": "code",
      "metadata": {
        "inputHidden": false,
        "outputHidden": false,
        "id": "LXNiSfos0oNm",
        "colab_type": "code",
        "outputId": "9b3ad937-bd48-4e9c-cac5-755c71758889",
        "colab": {
          "base_uri": "https://localhost:8080/",
          "height": 204
        }
      },
      "source": [
        "%%time\n",
        "# fit the model to the data (training)\n",
        "svm.fit(X_train, y_train)"
      ],
      "execution_count": 0,
      "outputs": [
        {
          "output_type": "stream",
          "text": [
            "CPU times: user 1h 24min 30s, sys: 5.24 s, total: 1h 24min 35s\n",
            "Wall time: 1h 24min 40s\n"
          ],
          "name": "stdout"
        },
        {
          "output_type": "execute_result",
          "data": {
            "text/plain": [
              "SVC(C=1.0, cache_size=200,\n",
              "    class_weight={0: 0.0045662100456621, 1: 0.006369426751592357,\n",
              "                  2: 0.00211864406779661, 3: 2.1707984196587506e-05,\n",
              "                  4: 0.0009775171065493646, 5: 1.7588293232024764e-05,\n",
              "                  6: 0.00048520135856380397, 7: 0.000126806999746386, 8: 0.1,\n",
              "                  9: 0.0041841004184100415},\n",
              "    coef0=0.0, decision_function_shape='ovo', degree=3, gamma='scale',\n",
              "    kernel='rbf', max_iter=-1, probability=False, random_state=None,\n",
              "    shrinking=True, tol=0.001, verbose=False)"
            ]
          },
          "metadata": {
            "tags": []
          },
          "execution_count": 16
        }
      ]
    },
    {
      "cell_type": "code",
      "metadata": {
        "inputHidden": false,
        "outputHidden": false,
        "id": "25pMSxGp0oNo",
        "colab_type": "code",
        "colab": {}
      },
      "source": [
        "# predict on X_test to evaluate the model\n",
        "preds = svm.predict(X_test)\n",
        "cm = confusion_matrix(y_test, preds, labels=labels)"
      ],
      "execution_count": 0,
      "outputs": []
    },
    {
      "cell_type": "code",
      "metadata": {
        "id": "EhFM39HK-5NC",
        "colab_type": "code",
        "outputId": "730e8a32-2da8-432f-990e-b9b7003d6cda",
        "colab": {
          "base_uri": "https://localhost:8080/",
          "height": 181
        }
      },
      "source": [
        "model_name = 'svm_model.sav'\n",
        "pickle.dump(lgbm, open(op.join(root_dir, model_name), 'wb'))\n"
      ],
      "execution_count": 0,
      "outputs": [
        {
          "output_type": "error",
          "ename": "NameError",
          "evalue": "ignored",
          "traceback": [
            "\u001b[0;31m---------------------------------------------------------------------------\u001b[0m",
            "\u001b[0;31mNameError\u001b[0m                                 Traceback (most recent call last)",
            "\u001b[0;32m<ipython-input-18-2f9db1744d98>\u001b[0m in \u001b[0;36m<module>\u001b[0;34m()\u001b[0m\n\u001b[1;32m      1\u001b[0m \u001b[0mmodel_name\u001b[0m \u001b[0;34m=\u001b[0m \u001b[0;34m'svm_model.sav'\u001b[0m\u001b[0;34m\u001b[0m\u001b[0;34m\u001b[0m\u001b[0m\n\u001b[0;32m----> 2\u001b[0;31m \u001b[0mpickle\u001b[0m\u001b[0;34m.\u001b[0m\u001b[0mdump\u001b[0m\u001b[0;34m(\u001b[0m\u001b[0mlgbm\u001b[0m\u001b[0;34m,\u001b[0m \u001b[0mopen\u001b[0m\u001b[0;34m(\u001b[0m\u001b[0mop\u001b[0m\u001b[0;34m.\u001b[0m\u001b[0mjoin\u001b[0m\u001b[0;34m(\u001b[0m\u001b[0mroot_dir\u001b[0m\u001b[0;34m,\u001b[0m \u001b[0mmodel_name\u001b[0m\u001b[0;34m)\u001b[0m\u001b[0;34m,\u001b[0m \u001b[0;34m'wb'\u001b[0m\u001b[0;34m)\u001b[0m\u001b[0;34m)\u001b[0m\u001b[0;34m\u001b[0m\u001b[0;34m\u001b[0m\u001b[0m\n\u001b[0m",
            "\u001b[0;31mNameError\u001b[0m: name 'lgbm' is not defined"
          ]
        }
      ]
    },
    {
      "cell_type": "code",
      "metadata": {
        "inputHidden": false,
        "outputHidden": false,
        "id": "COjyzKe00oNq",
        "colab_type": "code",
        "colab": {}
      },
      "source": [
        "# plot the confusion matrix\n",
        "%matplotlib inline\n",
        "cm = cm.astype('float') / cm.sum(axis=1)[:, np.newaxis]\n",
        "fig, ax = plt.subplots(figsize=(10, 10))\n",
        "im = ax.imshow(cm, interpolation='nearest', cmap=plt.cm.Blues)\n",
        "ax.figure.colorbar(im, ax=ax)\n",
        "# We want to show all ticks...\n",
        "ax.set(xticks=np.arange(cm.shape[1]),\n",
        "       yticks=np.arange(cm.shape[0]),\n",
        "       # ... and label them with the respective list entries\n",
        "       xticklabels=classes, yticklabels=classes,\n",
        "       title='Normalized Confusion Matrix',\n",
        "       ylabel='True label',\n",
        "       xlabel='Predicted label')\n",
        "\n",
        "# Rotate the tick labels and set their alignment.\n",
        "plt.setp(ax.get_xticklabels(), rotation=45, ha=\"right\",\n",
        "         rotation_mode=\"anchor\")\n",
        "\n",
        "# Loop over data dimensions and create text annotations.\n",
        "fmt = '.2f'\n",
        "thresh = cm.max() / 2.\n",
        "for i in range(cm.shape[0]):\n",
        "    for j in range(cm.shape[1]):\n",
        "        ax.text(j, i, format(cm[i, j], fmt),\n",
        "                ha=\"center\", va=\"center\",\n",
        "                color=\"white\" if cm[i, j] > thresh else \"black\")\n",
        "fig.tight_layout()"
      ],
      "execution_count": 0,
      "outputs": []
    },
    {
      "cell_type": "markdown",
      "metadata": {
        "id": "jF5FtgwM0oN0",
        "colab_type": "text"
      },
      "source": [
        "## Generate predictions over the full image"
      ]
    },
    {
      "cell_type": "code",
      "metadata": {
        "id": "FKCEa-hXqgmN",
        "colab_type": "code",
        "colab": {}
      },
      "source": [
        "# if want to use the pretrained model for new imagery\n",
        "\n",
        "# helper function for calculating ND*I indices (bands in the final dimension)\n",
        "# match the pretrained model weight with the saved model above\n",
        "model_name = 'light_gbm.sav'\n",
        "\n",
        "def band_index(arr, a, b):\n",
        "    return np.expand_dims((arr[..., a] - arr[..., b]) / (arr[..., a] + arr[..., b]), axis=1)\n",
        "  \n",
        "lgbm = pickle.load(open(op.join(root_dir, model_name), 'rb'))"
      ],
      "execution_count": 0,
      "outputs": []
    },
    {
      "cell_type": "code",
      "metadata": {
        "id": "kbVo745N-S9G",
        "colab_type": "code",
        "outputId": "11554446-6b7f-45aa-faf5-74f451b15926",
        "colab": {
          "base_uri": "https://localhost:8080/",
          "height": 238
        }
      },
      "source": [
        "lgbm"
      ],
      "execution_count": 0,
      "outputs": [
        {
          "output_type": "execute_result",
          "data": {
            "text/plain": [
              "LGBMClassifier(boosting_type='gbdt',\n",
              "               class_weight={0: 0.0045662100456621, 1: 0.006369426751592357,\n",
              "                             2: 0.00211864406779661, 3: 2.1707984196587506e-05,\n",
              "                             4: 0.0009775171065493646,\n",
              "                             5: 1.7588293232024764e-05,\n",
              "                             6: 0.00048520135856380397, 7: 0.000126806999746386,\n",
              "                             8: 0.1, 9: 0.0041841004184100415},\n",
              "               colsample_bytree=1.0, importance_type='split', learning_rate=0.1,\n",
              "               max_depth=-1, metric='multi_logloss', min_child_samples=20,\n",
              "               min_child_weight=0.001, min_split_gain=0.0, n_estimators=100,\n",
              "               n_jobs=-1, num_class=10, num_leaves=31, objective='multiclass',\n",
              "               random_state=None, reg_alpha=0.0, reg_lambda=0.0, silent=True,\n",
              "               subsample=1.0, subsample_for_bin=200000, subsample_freq=0)"
            ]
          },
          "metadata": {
            "tags": []
          },
          "execution_count": 4
        }
      ]
    },
    {
      "cell_type": "code",
      "metadata": {
        "id": "QEA_rsWuCmi_",
        "colab_type": "code",
        "colab": {}
      },
      "source": [
        "# src.close()\n",
        "# dst.close()"
      ],
      "execution_count": 0,
      "outputs": []
    },
    {
      "cell_type": "code",
      "metadata": {
        "inputHidden": false,
        "outputHidden": false,
        "id": "vmD5HXr50oN8",
        "colab_type": "code",
        "colab": {}
      },
      "source": [
        "# if want to use the pretrained model for new imagery\n",
        "# The pretrained model is called \"random_forest.sav\"\n",
        "# helper function for calculating ND*I indices (bands in the final dimension)\n",
        "\n",
        "# open connections to our input and output images\n",
        "\n",
        "new_image = op.join(root_dir, 'Trans_nzoia_2019_10-04.tif')\n",
        "\n",
        "output_image = op.join(root_dir, \"lgbm_classification.tif\")\n",
        "src = rasterio.open(new_image, 'r')\n",
        "profile = src.profile\n",
        "profile.update(\n",
        "    dtype=rasterio.uint8,\n",
        "    count=1,\n",
        ")\n",
        "dst = rasterio.open(output_image, 'w', **profile)\n",
        "\n",
        "# perform prediction on each small image patch to minimize required memory\n",
        "patch_size = 500\n",
        "\n",
        "for i in range((src.shape[0] // patch_size) + 1):\n",
        "    for j in range((src.shape[1] // patch_size) + 1):\n",
        "        # define the pixels to read (and write)\n",
        "        window = rasterio.windows.Window(\n",
        "            j * patch_size,\n",
        "            i * patch_size,\n",
        "            # don't read past the image bounds\n",
        "            min(patch_size, src.shape[1] - j * patch_size),\n",
        "            min(patch_size, src.shape[0] - i * patch_size)\n",
        "        )\n",
        "        \n",
        "        data = src.read(window=window)\n",
        "        # read the image into the proper format, adding indices if necessary\n",
        "        img_swp = np.moveaxis(data, 0, 2)\n",
        "        img_flat = img_swp.reshape(-1, img_swp.shape[-1])\n",
        "\n",
        "        img_ndvi = band_index(img_flat, 3, 2)\n",
        "        img_ndwi = band_index(img_flat, 1, 3)\n",
        "\n",
        "        img_w_ind = np.concatenate([img_flat, img_ndvi, img_ndwi], axis=1)\n",
        "\n",
        "        # remove no data values, store the indices for later use\n",
        "        # a later cell makes the assumption that all bands have identical no-data value arrangements\n",
        "        m = np.ma.masked_invalid(img_w_ind)\n",
        "        to_predict = img_w_ind[~m.mask].reshape(-1, img_w_ind.shape[-1])\n",
        "        \n",
        "        # predict\n",
        "        if not len(to_predict):\n",
        "            continue\n",
        "        img_preds = lgbm.predict(to_predict)\n",
        "        \n",
        "        # add the prediction back to the valid pixels (using only the first band of the mask to decide on validity)\n",
        "        # resize to the original image dimensions\n",
        "        output = np.zeros(img_flat.shape[0])\n",
        "        output[~m.mask[:,0]] = img_preds.flatten()\n",
        "        output = output.reshape(*img_swp.shape[:-1])\n",
        "        \n",
        "        # create our final mask\n",
        "        mask = (~m.mask[:,0]).reshape(*img_swp.shape[:-1])\n",
        "\n",
        "        # write to the final file\n",
        "        dst.write(output.astype(rasterio.uint8), 1, window=window)\n",
        "        dst.write_mask(mask, window=window)\n",
        "        # write to the final file\n",
        "        dst.write(output.astype(rasterio.uint8), 1, window=window)\n",
        "        dst.write_mask(mask, window=window)\n",
        "\n",
        "src.close()\n",
        "dst.close()"
      ],
      "execution_count": 0,
      "outputs": []
    },
    {
      "cell_type": "code",
      "metadata": {
        "id": "AzXXGcAw7Xpn",
        "colab_type": "code",
        "colab": {}
      },
      "source": [
        ""
      ],
      "execution_count": 0,
      "outputs": []
    }
  ]
}