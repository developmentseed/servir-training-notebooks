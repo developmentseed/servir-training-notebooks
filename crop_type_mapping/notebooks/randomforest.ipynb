{
 "cells": [
  {
   "cell_type": "markdown",
   "metadata": {},
   "source": [
    "# Random Forest Model for Crop Type and Land Classification\n",
    "\n",
    "Using data created by SERVIR East Africa, RCMRD, and FEWSNET, we demonstrate how to train a Random Forest classifier over Trans Nzoia county, Kenya.\n",
    "\n",
    "- If you want to run this whole notebook on Google Colab, here is [the link](https://colab.research.google.com/drive/1NIuDieA5ep45hFboJFbaI3Lg6iZX5GFG) for this notebook.\n",
    "\n",
    "- If you would like to replicate the workflow with the same data on your local machine, please download the data from our shared [Google Drive folder](https://drive.google.com/drive/folders/1jM2mBsJ81QfmyaKZNeXSTyi_IOVr_3Vs?usp=sharing).\n",
    "\n",
    "Besides mapping crop type with RandomForestClassifier, we also prepared notebooks that use LightGBM and SVM.\n",
    "- Find our [notebook for LightGBM](https://colab.research.google.com/drive/1wcz5PRDmM3MvSccqgb5WXpWmVuGB2jYh) on Google Colab;\n",
    "- Find our [notebook for SVM](https://colab.research.google.com/drive/1Q1Wki8m4iL8q1hU3S4rr83c8V0dPTMLl) on Google Colab.\n"
   ]
  },
  {
   "cell_type": "code",
   "execution_count": 0,
   "metadata": {
    "colab": {},
    "colab_type": "code",
    "id": "ZmQRJPcH0oNL",
    "inputHidden": false,
    "outputHidden": false
   },
   "outputs": [],
   "source": [
    "from os import path as op\n",
    "import geopandas as gpd\n",
    "import matplotlib.pyplot as plt\n",
    "import numpy as np\n",
    "import pickle\n",
    "\n",
    "import rasterio\n",
    "from rasterio.features import rasterize\n",
    "from rasterstats.io import bounds_window\n",
    "import rasterstats\n",
    "\n",
    "from sklearn.metrics import confusion_matrix\n",
    "from sklearn.model_selection import train_test_split\n",
    "from sklearn.ensemble import RandomForestClassifier\n",
    "from treeinterpreter import treeinterpreter as ti\n",
    "\n"
   ]
  },
  {
   "cell_type": "markdown",
   "metadata": {
    "colab_type": "text",
    "id": "fdR6yDJkb5nK"
   },
   "source": [
    "## Model **training**"
   ]
  },
  {
   "cell_type": "code",
   "execution_count": 0,
   "metadata": {
    "colab": {
     "base_uri": "https://localhost:8080/",
     "height": 204
    },
    "colab_type": "code",
    "id": "__o2qQdE0oNR",
    "inputHidden": false,
    "outputHidden": false,
    "outputId": "97e01c5e-7a1a-433f-8d9d-97bccbd6f968"
   },
   "outputs": [
    {
     "data": {
      "text/html": [
       "<div>\n",
       "<style scoped>\n",
       "    .dataframe tbody tr th:only-of-type {\n",
       "        vertical-align: middle;\n",
       "    }\n",
       "\n",
       "    .dataframe tbody tr th {\n",
       "        vertical-align: top;\n",
       "    }\n",
       "\n",
       "    .dataframe thead th {\n",
       "        text-align: right;\n",
       "    }\n",
       "</style>\n",
       "<table border=\"1\" class=\"dataframe\">\n",
       "  <thead>\n",
       "    <tr style=\"text-align: right;\">\n",
       "      <th></th>\n",
       "      <th>name</th>\n",
       "      <th>description</th>\n",
       "      <th>geometry</th>\n",
       "    </tr>\n",
       "  </thead>\n",
       "  <tbody>\n",
       "    <tr>\n",
       "      <th>0</th>\n",
       "      <td>Shadow</td>\n",
       "      <td>None</td>\n",
       "      <td>MULTIPOLYGON (((34.83383 1.18204, 34.83577 1.1...</td>\n",
       "    </tr>\n",
       "    <tr>\n",
       "      <th>1</th>\n",
       "      <td>Forestland</td>\n",
       "      <td>None</td>\n",
       "      <td>MULTIPOLYGON (((35.30961 1.01328, 35.30964 1.0...</td>\n",
       "    </tr>\n",
       "    <tr>\n",
       "      <th>2</th>\n",
       "      <td>Maize</td>\n",
       "      <td>early reproductive</td>\n",
       "      <td>MULTIPOLYGON (((34.90904 1.09515, 34.90907 1.0...</td>\n",
       "    </tr>\n",
       "    <tr>\n",
       "      <th>3</th>\n",
       "      <td>Sugarcane</td>\n",
       "      <td>no change..maize farm on the right and far lef...</td>\n",
       "      <td>MULTIPOLYGON (((34.90750 1.08934, 34.90753 1.0...</td>\n",
       "    </tr>\n",
       "    <tr>\n",
       "      <th>4</th>\n",
       "      <td>Maize</td>\n",
       "      <td>reproductive good crop</td>\n",
       "      <td>MULTIPOLYGON (((34.87144 0.82953, 34.87147 0.8...</td>\n",
       "    </tr>\n",
       "  </tbody>\n",
       "</table>\n",
       "</div>"
      ],
      "text/plain": [
       "         name  ...                                           geometry\n",
       "0      Shadow  ...  MULTIPOLYGON (((34.83383 1.18204, 34.83577 1.1...\n",
       "1  Forestland  ...  MULTIPOLYGON (((35.30961 1.01328, 35.30964 1.0...\n",
       "2       Maize  ...  MULTIPOLYGON (((34.90904 1.09515, 34.90907 1.0...\n",
       "3   Sugarcane  ...  MULTIPOLYGON (((34.90750 1.08934, 34.90753 1.0...\n",
       "4       Maize  ...  MULTIPOLYGON (((34.87144 0.82953, 34.87147 0.8...\n",
       "\n",
       "[5 rows x 3 columns]"
      ]
     },
     "execution_count": 5,
     "metadata": {
      "tags": []
     },
     "output_type": "execute_result"
    }
   ],
   "source": [
    "# read in training data polygons that created as geojson\n",
    "training_vectors = gpd.read_file('servir_croptype_workshop_data/training_data.geojson')\n",
    "training_vectors.head()"
   ]
  },
  {
   "cell_type": "code",
   "execution_count": 0,
   "metadata": {
    "colab": {
     "base_uri": "https://localhost:8080/",
     "height": 51
    },
    "colab_type": "code",
    "id": "LFMpu1PC0oNV",
    "inputHidden": false,
    "outputHidden": false,
    "outputId": "60f54224-67c8-4f26-d9b7-c405e8190f4a"
   },
   "outputs": [
    {
     "data": {
      "text/plain": [
       "array(['Built', 'Cloud', 'Fallow', 'Forestland', 'Grassland', 'Maize',\n",
       "       'Shadow', 'Sugarcane', 'Sunflower', 'Waterbody'], dtype=object)"
      ]
     },
     "execution_count": 6,
     "metadata": {
      "tags": []
     },
     "output_type": "execute_result"
    }
   ],
   "source": [
    "# find all unique values of training data names to use as classes\n",
    "classes = np.unique(training_vectors.name)\n",
    "classes"
   ]
  },
  {
   "cell_type": "code",
   "execution_count": 0,
   "metadata": {
    "colab": {
     "base_uri": "https://localhost:8080/",
     "height": 187
    },
    "colab_type": "code",
    "id": "2FRc2gpg0oNX",
    "inputHidden": false,
    "outputHidden": false,
    "outputId": "31a1c9d7-2b87-4c21-e8d3-019a6cedc1d0"
   },
   "outputs": [
    {
     "data": {
      "text/plain": [
       "{'Built': 0,\n",
       " 'Cloud': 1,\n",
       " 'Fallow': 2,\n",
       " 'Forestland': 3,\n",
       " 'Grassland': 4,\n",
       " 'Maize': 5,\n",
       " 'Shadow': 6,\n",
       " 'Sugarcane': 7,\n",
       " 'Sunflower': 8,\n",
       " 'Waterbody': 9}"
      ]
     },
     "execution_count": 7,
     "metadata": {
      "tags": []
     },
     "output_type": "execute_result"
    }
   ],
   "source": [
    "# create a dictionary to convert class names into integers for modeling\n",
    "class_dict = dict(zip(classes, range(len(classes))))\n",
    "class_dict                  "
   ]
  },
  {
   "cell_type": "code",
   "execution_count": 0,
   "metadata": {
    "colab": {},
    "colab_type": "code",
    "id": "Tuz2ghqI0oNY",
    "inputHidden": false,
    "outputHidden": false
   },
   "outputs": [],
   "source": [
    "# raster information\n",
    "raster_file = 'servir_croptype_workshop_data/Trans_nzoia_2019_05-02.tif'\n",
    "\n",
    "\n",
    "# a custom function for getting each value from the raster\n",
    "def all_values(x):\n",
    "    return x\n",
    "\n",
    "# this larger cell reads data from a raster file for each training vector\n",
    "X_raw = []\n",
    "y_raw = []\n",
    "with rasterio.open(raster_file, 'r') as src:\n",
    "    for (label, geom) in zip(training_vectors.name, training_vectors.geometry):\n",
    "        \n",
    "        # read the raster data matching the geometry bounds\n",
    "        window = bounds_window(geom.bounds, src.transform)\n",
    "        # store our window information\n",
    "        window_affine = src.window_transform(window)\n",
    "        fsrc = src.read(window=window)\n",
    "        # rasterize the (non-buffered) geometry into the larger shape and affine\n",
    "        mask = rasterize(\n",
    "            [(geom, 1)],\n",
    "            out_shape=fsrc.shape[1:],\n",
    "            transform=window_affine,\n",
    "            fill=0,\n",
    "            dtype='uint8',\n",
    "            all_touched=True\n",
    "        ).astype(bool)\n",
    "        \n",
    "        # for each label pixel (places where the mask is true)\n",
    "        label_pixels = np.argwhere(mask)\n",
    "        \n",
    "        for (row, col) in label_pixels:\n",
    "            # add a pixel of data to X\n",
    "            data = fsrc[:,row,col]\n",
    "            one_x = np.nan_to_num(data, nan=1e-3)\n",
    "            X_raw.append(one_x)\n",
    "            # add the label to y\n",
    "            y_raw.append(class_dict[label])\n"
   ]
  },
  {
   "cell_type": "code",
   "execution_count": 0,
   "metadata": {
    "colab": {
     "base_uri": "https://localhost:8080/",
     "height": 34
    },
    "colab_type": "code",
    "id": "TyvZj0F_0oNa",
    "inputHidden": false,
    "outputHidden": false,
    "outputId": "92e784e5-ba57-4572-efbb-28243f7126dd"
   },
   "outputs": [
    {
     "data": {
      "text/plain": [
       "((160461, 6), (160461,))"
      ]
     },
     "execution_count": 11,
     "metadata": {
      "tags": []
     },
     "output_type": "execute_result"
    }
   ],
   "source": [
    "# convert the training data lists into the appropriate numpy array shape and format for scikit-learn\n",
    "X = np.array(X_raw)\n",
    "y = np.array(y_raw)\n",
    "(X.shape, y.shape)"
   ]
  },
  {
   "cell_type": "code",
   "execution_count": 0,
   "metadata": {
    "colab": {
     "base_uri": "https://localhost:8080/",
     "height": 34
    },
    "colab_type": "code",
    "id": "tJ4YWY5M0oNc",
    "inputHidden": false,
    "outputHidden": false,
    "outputId": "cdf441a0-21da-4a90-c33d-13503de69f73"
   },
   "outputs": [
    {
     "data": {
      "text/plain": [
       "(160461, 8)"
      ]
     },
     "execution_count": 12,
     "metadata": {
      "tags": []
     },
     "output_type": "execute_result"
    }
   ],
   "source": [
    "# helper function for calculating ND*I indices (bands in the final dimension)\n",
    "def band_index(arr, a, b):\n",
    "    return np.expand_dims((arr[..., a] - arr[..., b]) / (arr[..., a] + arr[..., b]), axis=1)\n",
    "\n",
    "ndvi = band_index(X, 3, 2)\n",
    "ndwi = band_index(X, 1, 3)\n",
    "\n",
    "X = np.concatenate([X, ndvi, ndwi], axis=1)\n",
    "X.shape"
   ]
  },
  {
   "cell_type": "code",
   "execution_count": 0,
   "metadata": {
    "colab": {},
    "colab_type": "code",
    "id": "6agtXCDh0oNe",
    "inputHidden": false,
    "outputHidden": false
   },
   "outputs": [],
   "source": [
    "# split the data into test and train sets\n",
    "X_train, X_test, y_train, y_test = train_test_split(X, y, test_size=0.2, random_state=42)"
   ]
  },
  {
   "cell_type": "code",
   "execution_count": 0,
   "metadata": {
    "colab": {
     "base_uri": "https://localhost:8080/",
     "height": 187
    },
    "colab_type": "code",
    "id": "9QetQBP40oNh",
    "inputHidden": false,
    "outputHidden": false,
    "outputId": "ba68cc13-9165-42df-c379-41448ca341e3"
   },
   "outputs": [
    {
     "data": {
      "text/plain": [
       "{0: 0.00046882325363338024,\n",
       " 1: 0.001597444089456869,\n",
       " 2: 0.0004928536224741252,\n",
       " 3: 1.970093973482535e-05,\n",
       " 4: 0.000819000819000819,\n",
       " 5: 1.5704257424187697e-05,\n",
       " 6: 0.0002473410833539451,\n",
       " 7: 0.0002824858757062147,\n",
       " 8: 0.05263157894736842,\n",
       " 9: 0.003115264797507788}"
      ]
     },
     "execution_count": 14,
     "metadata": {
      "tags": []
     },
     "output_type": "execute_result"
    }
   ],
   "source": [
    "# calculate class weights to allow for training on inbalanced training samples\n",
    "labels, counts = np.unique(y_train, return_counts=True)\n",
    "class_weight_dict = dict(zip(labels, 1 / counts))\n",
    "class_weight_dict"
   ]
  },
  {
   "cell_type": "code",
   "execution_count": 0,
   "metadata": {
    "colab": {},
    "colab_type": "code",
    "id": "JSuV7EVB0oNk",
    "inputHidden": false,
    "outputHidden": false
   },
   "outputs": [],
   "source": [
    "# initialize a RandomForestClassifier\n",
    "clf = RandomForestClassifier(\n",
    "    n_estimators=200,\n",
    "    class_weight=class_weight_dict,\n",
    "    max_depth=6,\n",
    "    n_jobs=-1,\n",
    "    verbose=1,\n",
    "    random_state=0)\n"
   ]
  },
  {
   "cell_type": "code",
   "execution_count": 0,
   "metadata": {
    "colab": {
     "base_uri": "https://localhost:8080/",
     "height": 374
    },
    "colab_type": "code",
    "id": "LXNiSfos0oNm",
    "inputHidden": false,
    "outputHidden": false,
    "outputId": "3e49ff52-ee57-4f47-ddee-d9f0b47df6e7"
   },
   "outputs": [
    {
     "name": "stderr",
     "output_type": "stream",
     "text": [
      "[Parallel(n_jobs=-1)]: Using backend ThreadingBackend with 2 concurrent workers.\n",
      "[Parallel(n_jobs=-1)]: Done  46 tasks      | elapsed:    5.3s\n",
      "[Parallel(n_jobs=-1)]: Done 196 tasks      | elapsed:   22.1s\n",
      "[Parallel(n_jobs=-1)]: Done 200 out of 200 | elapsed:   22.6s finished\n"
     ]
    },
    {
     "data": {
      "text/plain": [
       "RandomForestClassifier(bootstrap=True,\n",
       "                       class_weight={0: 0.00046882325363338024,\n",
       "                                     1: 0.001597444089456869,\n",
       "                                     2: 0.0004928536224741252,\n",
       "                                     3: 1.970093973482535e-05,\n",
       "                                     4: 0.000819000819000819,\n",
       "                                     5: 1.5704257424187697e-05,\n",
       "                                     6: 0.0002473410833539451,\n",
       "                                     7: 0.0002824858757062147,\n",
       "                                     8: 0.05263157894736842,\n",
       "                                     9: 0.003115264797507788},\n",
       "                       criterion='gini', max_depth=6, max_features='auto',\n",
       "                       max_leaf_nodes=None, min_impurity_decrease=0.0,\n",
       "                       min_impurity_split=None, min_samples_leaf=1,\n",
       "                       min_samples_split=2, min_weight_fraction_leaf=0.0,\n",
       "                       n_estimators=200, n_jobs=-1, oob_score=False,\n",
       "                       random_state=0, verbose=1, warm_start=False)"
      ]
     },
     "execution_count": 16,
     "metadata": {
      "tags": []
     },
     "output_type": "execute_result"
    }
   ],
   "source": [
    "# fit the model to the data (training)\n",
    "clf.fit(X, y)"
   ]
  },
  {
   "cell_type": "code",
   "execution_count": 0,
   "metadata": {
    "colab": {
     "base_uri": "https://localhost:8080/",
     "height": 85
    },
    "colab_type": "code",
    "id": "25pMSxGp0oNo",
    "inputHidden": false,
    "outputHidden": false,
    "outputId": "2c52898a-d1e3-4c9e-8202-d5c3d5168d28"
   },
   "outputs": [
    {
     "name": "stderr",
     "output_type": "stream",
     "text": [
      "[Parallel(n_jobs=2)]: Using backend ThreadingBackend with 2 concurrent workers.\n",
      "[Parallel(n_jobs=2)]: Done  46 tasks      | elapsed:    0.1s\n",
      "[Parallel(n_jobs=2)]: Done 196 tasks      | elapsed:    0.5s\n",
      "[Parallel(n_jobs=2)]: Done 200 out of 200 | elapsed:    0.5s finished\n"
     ]
    }
   ],
   "source": [
    "# predict on X_test to evaluate the model\n",
    "preds = clf.predict(X_test)\n",
    "cm = confusion_matrix(y_test, preds, labels=labels)"
   ]
  },
  {
   "cell_type": "code",
   "execution_count": 0,
   "metadata": {
    "colab": {},
    "colab_type": "code",
    "id": "EhFM39HK-5NC"
   },
   "outputs": [],
   "source": [
    "# save the trained model as pickle file\n",
    "model_name = 'random_forest.sav'\n",
    "with open(model_name, 'wb') as modelfile:\n",
    "    pickle.dump(clf, modelfile)"
   ]
  },
  {
   "cell_type": "code",
   "execution_count": 0,
   "metadata": {
    "colab": {
     "base_uri": "https://localhost:8080/",
     "height": 729
    },
    "colab_type": "code",
    "id": "COjyzKe00oNq",
    "inputHidden": false,
    "outputHidden": false,
    "outputId": "c76e73d4-1bfa-453d-a208-c8fe17dba22a"
   },
   "outputs": [
    {
     "data": {
      "image/png": "[encoded data removed]",
      "text/plain": [
       "<Figure size 720x720 with 2 Axes>"
      ]
     },
     "metadata": {
      "tags": []
     },
     "output_type": "display_data"
    }
   ],
   "source": [
    "# plot the confusion matrix\n",
    "%matplotlib inline\n",
    "cm = cm.astype('float') / cm.sum(axis=1)[:, np.newaxis]\n",
    "fig, ax = plt.subplots(figsize=(10, 10))\n",
    "im = ax.imshow(cm, interpolation='nearest', cmap=plt.cm.Blues)\n",
    "ax.figure.colorbar(im, ax=ax)\n",
    "\n",
    "# We want to show all ticks...\n",
    "ax.set(xticks=np.arange(cm.shape[1]),\n",
    "       yticks=np.arange(cm.shape[0]),\n",
    "       # ... and label them with the respective list entries\n",
    "       xticklabels=classes, yticklabels=classes,\n",
    "       title='Normalized Confusion Matrix',\n",
    "       ylabel='True label',\n",
    "       xlabel='Predicted label')\n",
    "\n",
    "# Rotate the tick labels and set their alignment.\n",
    "plt.setp(ax.get_xticklabels(), rotation=45, ha=\"right\",\n",
    "         rotation_mode=\"anchor\")\n",
    "\n",
    "# Loop over data dimensions and create text annotations.\n",
    "fmt = '.2f'\n",
    "thresh = cm.max() / 2.\n",
    "for i in range(cm.shape[0]):\n",
    "    for j in range(cm.shape[1]):\n",
    "        ax.text(j, i, format(cm[i, j], fmt),\n",
    "                ha=\"center\", va=\"center\",\n",
    "                color=\"white\" if cm[i, j] > thresh else \"black\")\n",
    "fig.tight_layout()"
   ]
  },
  {
   "cell_type": "code",
   "execution_count": 0,
   "metadata": {
    "colab": {},
    "colab_type": "code",
    "id": "YF_L43-R0oNt",
    "inputHidden": false,
    "outputHidden": false
   },
   "outputs": [],
   "source": [
    "# predict again with the tree interpreter to see how much each band contributes to the classification\n",
    "sample = 100\n",
    "prediction, bias, contributions = ti.predict(clf, X_test[:sample])\n",
    "c = np.sum(contributions, axis=0)"
   ]
  },
  {
   "cell_type": "code",
   "execution_count": 0,
   "metadata": {
    "colab": {
     "base_uri": "https://localhost:8080/",
     "height": 208
    },
    "colab_type": "code",
    "id": "4MkOPwWc0oNy",
    "inputHidden": false,
    "outputHidden": false,
    "outputId": "9fd4656e-8b62-4c5e-ea5b-21e34482f010"
   },
   "outputs": [
    {
     "data": {
      "text/html": [
       "<style  type=\"text/css\" >\n",
       "    #T_0de86120_00e7_11ea_a355_0242ac1c0002row0_col0 {\n",
       "            background-color:  #1fa287;\n",
       "            color:  #000000;\n",
       "        }    #T_0de86120_00e7_11ea_a355_0242ac1c0002row0_col1 {\n",
       "            background-color:  #3e4a89;\n",
       "            color:  #f1f1f1;\n",
       "        }    #T_0de86120_00e7_11ea_a355_0242ac1c0002row0_col2 {\n",
       "            background-color:  #481467;\n",
       "            color:  #f1f1f1;\n",
       "        }    #T_0de86120_00e7_11ea_a355_0242ac1c0002row0_col3 {\n",
       "            background-color:  #fde725;\n",
       "            color:  #000000;\n",
       "        }    #T_0de86120_00e7_11ea_a355_0242ac1c0002row0_col4 {\n",
       "            background-color:  #238a8d;\n",
       "            color:  #000000;\n",
       "        }    #T_0de86120_00e7_11ea_a355_0242ac1c0002row0_col5 {\n",
       "            background-color:  #482878;\n",
       "            color:  #f1f1f1;\n",
       "        }    #T_0de86120_00e7_11ea_a355_0242ac1c0002row0_col6 {\n",
       "            background-color:  #482878;\n",
       "            color:  #f1f1f1;\n",
       "        }    #T_0de86120_00e7_11ea_a355_0242ac1c0002row0_col7 {\n",
       "            background-color:  #472d7b;\n",
       "            color:  #f1f1f1;\n",
       "        }    #T_0de86120_00e7_11ea_a355_0242ac1c0002row0_col8 {\n",
       "            background-color:  #fde725;\n",
       "            color:  #000000;\n",
       "        }    #T_0de86120_00e7_11ea_a355_0242ac1c0002row0_col9 {\n",
       "            background-color:  #1fa088;\n",
       "            color:  #000000;\n",
       "        }    #T_0de86120_00e7_11ea_a355_0242ac1c0002row1_col0 {\n",
       "            background-color:  #2b758e;\n",
       "            color:  #f1f1f1;\n",
       "        }    #T_0de86120_00e7_11ea_a355_0242ac1c0002row1_col1 {\n",
       "            background-color:  #c8e020;\n",
       "            color:  #000000;\n",
       "        }    #T_0de86120_00e7_11ea_a355_0242ac1c0002row1_col2 {\n",
       "            background-color:  #38588c;\n",
       "            color:  #f1f1f1;\n",
       "        }    #T_0de86120_00e7_11ea_a355_0242ac1c0002row1_col3 {\n",
       "            background-color:  #482071;\n",
       "            color:  #f1f1f1;\n",
       "        }    #T_0de86120_00e7_11ea_a355_0242ac1c0002row1_col4 {\n",
       "            background-color:  #1fa188;\n",
       "            color:  #000000;\n",
       "        }    #T_0de86120_00e7_11ea_a355_0242ac1c0002row1_col5 {\n",
       "            background-color:  #fde725;\n",
       "            color:  #000000;\n",
       "        }    #T_0de86120_00e7_11ea_a355_0242ac1c0002row1_col6 {\n",
       "            background-color:  #6ccd5a;\n",
       "            color:  #000000;\n",
       "        }    #T_0de86120_00e7_11ea_a355_0242ac1c0002row1_col7 {\n",
       "            background-color:  #2d708e;\n",
       "            color:  #f1f1f1;\n",
       "        }    #T_0de86120_00e7_11ea_a355_0242ac1c0002row1_col8 {\n",
       "            background-color:  #5ac864;\n",
       "            color:  #000000;\n",
       "        }    #T_0de86120_00e7_11ea_a355_0242ac1c0002row1_col9 {\n",
       "            background-color:  #3bbb75;\n",
       "            color:  #000000;\n",
       "        }    #T_0de86120_00e7_11ea_a355_0242ac1c0002row2_col0 {\n",
       "            background-color:  #440154;\n",
       "            color:  #f1f1f1;\n",
       "        }    #T_0de86120_00e7_11ea_a355_0242ac1c0002row2_col1 {\n",
       "            background-color:  #440154;\n",
       "            color:  #f1f1f1;\n",
       "        }    #T_0de86120_00e7_11ea_a355_0242ac1c0002row2_col2 {\n",
       "            background-color:  #29af7f;\n",
       "            color:  #000000;\n",
       "        }    #T_0de86120_00e7_11ea_a355_0242ac1c0002row2_col3 {\n",
       "            background-color:  #482677;\n",
       "            color:  #f1f1f1;\n",
       "        }    #T_0de86120_00e7_11ea_a355_0242ac1c0002row2_col4 {\n",
       "            background-color:  #fde725;\n",
       "            color:  #000000;\n",
       "        }    #T_0de86120_00e7_11ea_a355_0242ac1c0002row2_col5 {\n",
       "            background-color:  #287d8e;\n",
       "            color:  #000000;\n",
       "        }    #T_0de86120_00e7_11ea_a355_0242ac1c0002row2_col6 {\n",
       "            background-color:  #46085c;\n",
       "            color:  #f1f1f1;\n",
       "        }    #T_0de86120_00e7_11ea_a355_0242ac1c0002row2_col7 {\n",
       "            background-color:  #440154;\n",
       "            color:  #f1f1f1;\n",
       "        }    #T_0de86120_00e7_11ea_a355_0242ac1c0002row2_col8 {\n",
       "            background-color:  #67cc5c;\n",
       "            color:  #000000;\n",
       "        }    #T_0de86120_00e7_11ea_a355_0242ac1c0002row2_col9 {\n",
       "            background-color:  #fde725;\n",
       "            color:  #000000;\n",
       "        }    #T_0de86120_00e7_11ea_a355_0242ac1c0002row3_col0 {\n",
       "            background-color:  #dfe318;\n",
       "            color:  #000000;\n",
       "        }    #T_0de86120_00e7_11ea_a355_0242ac1c0002row3_col1 {\n",
       "            background-color:  #25ac82;\n",
       "            color:  #000000;\n",
       "        }    #T_0de86120_00e7_11ea_a355_0242ac1c0002row3_col2 {\n",
       "            background-color:  #440154;\n",
       "            color:  #f1f1f1;\n",
       "        }    #T_0de86120_00e7_11ea_a355_0242ac1c0002row3_col3 {\n",
       "            background-color:  #440154;\n",
       "            color:  #f1f1f1;\n",
       "        }    #T_0de86120_00e7_11ea_a355_0242ac1c0002row3_col4 {\n",
       "            background-color:  #3b528b;\n",
       "            color:  #f1f1f1;\n",
       "        }    #T_0de86120_00e7_11ea_a355_0242ac1c0002row3_col5 {\n",
       "            background-color:  #fbe723;\n",
       "            color:  #000000;\n",
       "        }    #T_0de86120_00e7_11ea_a355_0242ac1c0002row3_col6 {\n",
       "            background-color:  #fde725;\n",
       "            color:  #000000;\n",
       "        }    #T_0de86120_00e7_11ea_a355_0242ac1c0002row3_col7 {\n",
       "            background-color:  #fde725;\n",
       "            color:  #000000;\n",
       "        }    #T_0de86120_00e7_11ea_a355_0242ac1c0002row3_col8 {\n",
       "            background-color:  #1f988b;\n",
       "            color:  #000000;\n",
       "        }    #T_0de86120_00e7_11ea_a355_0242ac1c0002row3_col9 {\n",
       "            background-color:  #e7e419;\n",
       "            color:  #000000;\n",
       "        }    #T_0de86120_00e7_11ea_a355_0242ac1c0002row4_col0 {\n",
       "            background-color:  #fde725;\n",
       "            color:  #000000;\n",
       "        }    #T_0de86120_00e7_11ea_a355_0242ac1c0002row4_col1 {\n",
       "            background-color:  #dae319;\n",
       "            color:  #000000;\n",
       "        }    #T_0de86120_00e7_11ea_a355_0242ac1c0002row4_col2 {\n",
       "            background-color:  #2d718e;\n",
       "            color:  #f1f1f1;\n",
       "        }    #T_0de86120_00e7_11ea_a355_0242ac1c0002row4_col3 {\n",
       "            background-color:  #472a7a;\n",
       "            color:  #f1f1f1;\n",
       "        }    #T_0de86120_00e7_11ea_a355_0242ac1c0002row4_col4 {\n",
       "            background-color:  #297b8e;\n",
       "            color:  #000000;\n",
       "        }    #T_0de86120_00e7_11ea_a355_0242ac1c0002row4_col5 {\n",
       "            background-color:  #20938c;\n",
       "            color:  #000000;\n",
       "        }    #T_0de86120_00e7_11ea_a355_0242ac1c0002row4_col6 {\n",
       "            background-color:  #3bbb75;\n",
       "            color:  #000000;\n",
       "        }    #T_0de86120_00e7_11ea_a355_0242ac1c0002row4_col7 {\n",
       "            background-color:  #b5de2b;\n",
       "            color:  #000000;\n",
       "        }    #T_0de86120_00e7_11ea_a355_0242ac1c0002row4_col8 {\n",
       "            background-color:  #50c46a;\n",
       "            color:  #000000;\n",
       "        }    #T_0de86120_00e7_11ea_a355_0242ac1c0002row4_col9 {\n",
       "            background-color:  #440154;\n",
       "            color:  #f1f1f1;\n",
       "        }    #T_0de86120_00e7_11ea_a355_0242ac1c0002row5_col0 {\n",
       "            background-color:  #1fa088;\n",
       "            color:  #000000;\n",
       "        }    #T_0de86120_00e7_11ea_a355_0242ac1c0002row5_col1 {\n",
       "            background-color:  #404688;\n",
       "            color:  #f1f1f1;\n",
       "        }    #T_0de86120_00e7_11ea_a355_0242ac1c0002row5_col2 {\n",
       "            background-color:  #4cc26c;\n",
       "            color:  #000000;\n",
       "        }    #T_0de86120_00e7_11ea_a355_0242ac1c0002row5_col3 {\n",
       "            background-color:  #481668;\n",
       "            color:  #f1f1f1;\n",
       "        }    #T_0de86120_00e7_11ea_a355_0242ac1c0002row5_col4 {\n",
       "            background-color:  #3fbc73;\n",
       "            color:  #000000;\n",
       "        }    #T_0de86120_00e7_11ea_a355_0242ac1c0002row5_col5 {\n",
       "            background-color:  #440154;\n",
       "            color:  #f1f1f1;\n",
       "        }    #T_0de86120_00e7_11ea_a355_0242ac1c0002row5_col6 {\n",
       "            background-color:  #440154;\n",
       "            color:  #f1f1f1;\n",
       "        }    #T_0de86120_00e7_11ea_a355_0242ac1c0002row5_col7 {\n",
       "            background-color:  #424186;\n",
       "            color:  #f1f1f1;\n",
       "        }    #T_0de86120_00e7_11ea_a355_0242ac1c0002row5_col8 {\n",
       "            background-color:  #25ac82;\n",
       "            color:  #000000;\n",
       "        }    #T_0de86120_00e7_11ea_a355_0242ac1c0002row5_col9 {\n",
       "            background-color:  #63cb5f;\n",
       "            color:  #000000;\n",
       "        }    #T_0de86120_00e7_11ea_a355_0242ac1c0002row6_col0 {\n",
       "            background-color:  #238a8d;\n",
       "            color:  #000000;\n",
       "        }    #T_0de86120_00e7_11ea_a355_0242ac1c0002row6_col1 {\n",
       "            background-color:  #1e9d89;\n",
       "            color:  #000000;\n",
       "        }    #T_0de86120_00e7_11ea_a355_0242ac1c0002row6_col2 {\n",
       "            background-color:  #fde725;\n",
       "            color:  #000000;\n",
       "        }    #T_0de86120_00e7_11ea_a355_0242ac1c0002row6_col3 {\n",
       "            background-color:  #355f8d;\n",
       "            color:  #f1f1f1;\n",
       "        }    #T_0de86120_00e7_11ea_a355_0242ac1c0002row6_col4 {\n",
       "            background-color:  #48186a;\n",
       "            color:  #f1f1f1;\n",
       "        }    #T_0de86120_00e7_11ea_a355_0242ac1c0002row6_col5 {\n",
       "            background-color:  #8ed645;\n",
       "            color:  #000000;\n",
       "        }    #T_0de86120_00e7_11ea_a355_0242ac1c0002row6_col6 {\n",
       "            background-color:  #440256;\n",
       "            color:  #f1f1f1;\n",
       "        }    #T_0de86120_00e7_11ea_a355_0242ac1c0002row6_col7 {\n",
       "            background-color:  #453781;\n",
       "            color:  #f1f1f1;\n",
       "        }    #T_0de86120_00e7_11ea_a355_0242ac1c0002row6_col8 {\n",
       "            background-color:  #440154;\n",
       "            color:  #f1f1f1;\n",
       "        }    #T_0de86120_00e7_11ea_a355_0242ac1c0002row6_col9 {\n",
       "            background-color:  #33638d;\n",
       "            color:  #f1f1f1;\n",
       "        }    #T_0de86120_00e7_11ea_a355_0242ac1c0002row7_col0 {\n",
       "            background-color:  #f1e51d;\n",
       "            color:  #000000;\n",
       "        }    #T_0de86120_00e7_11ea_a355_0242ac1c0002row7_col1 {\n",
       "            background-color:  #fde725;\n",
       "            color:  #000000;\n",
       "        }    #T_0de86120_00e7_11ea_a355_0242ac1c0002row7_col2 {\n",
       "            background-color:  #67cc5c;\n",
       "            color:  #000000;\n",
       "        }    #T_0de86120_00e7_11ea_a355_0242ac1c0002row7_col3 {\n",
       "            background-color:  #481b6d;\n",
       "            color:  #f1f1f1;\n",
       "        }    #T_0de86120_00e7_11ea_a355_0242ac1c0002row7_col4 {\n",
       "            background-color:  #440154;\n",
       "            color:  #f1f1f1;\n",
       "        }    #T_0de86120_00e7_11ea_a355_0242ac1c0002row7_col5 {\n",
       "            background-color:  #25838e;\n",
       "            color:  #000000;\n",
       "        }    #T_0de86120_00e7_11ea_a355_0242ac1c0002row7_col6 {\n",
       "            background-color:  #7ad151;\n",
       "            color:  #000000;\n",
       "        }    #T_0de86120_00e7_11ea_a355_0242ac1c0002row7_col7 {\n",
       "            background-color:  #453781;\n",
       "            color:  #f1f1f1;\n",
       "        }    #T_0de86120_00e7_11ea_a355_0242ac1c0002row7_col8 {\n",
       "            background-color:  #453882;\n",
       "            color:  #f1f1f1;\n",
       "        }    #T_0de86120_00e7_11ea_a355_0242ac1c0002row7_col9 {\n",
       "            background-color:  #375b8d;\n",
       "            color:  #f1f1f1;\n",
       "        }</style><table id=\"T_0de86120_00e7_11ea_a355_0242ac1c0002\" ><thead>    <tr>        <th class=\"blank level0\" ></th>        <th class=\"col_heading level0 col0\" >Built</th>        <th class=\"col_heading level0 col1\" >Cloud</th>        <th class=\"col_heading level0 col2\" >Fallow</th>        <th class=\"col_heading level0 col3\" >Forestland</th>        <th class=\"col_heading level0 col4\" >Grassland</th>        <th class=\"col_heading level0 col5\" >Maize</th>        <th class=\"col_heading level0 col6\" >Shadow</th>        <th class=\"col_heading level0 col7\" >Sugarcane</th>        <th class=\"col_heading level0 col8\" >Sunflower</th>        <th class=\"col_heading level0 col9\" >Waterbody</th>    </tr></thead><tbody>\n",
       "                <tr>\n",
       "                        <th id=\"T_0de86120_00e7_11ea_a355_0242ac1c0002level0_row0\" class=\"row_heading level0 row0\" >Blue</th>\n",
       "                        <td id=\"T_0de86120_00e7_11ea_a355_0242ac1c0002row0_col0\" class=\"data row0 col0\" >-0.708147</td>\n",
       "                        <td id=\"T_0de86120_00e7_11ea_a355_0242ac1c0002row0_col1\" class=\"data row0 col1\" >-0.450384</td>\n",
       "                        <td id=\"T_0de86120_00e7_11ea_a355_0242ac1c0002row0_col2\" class=\"data row0 col2\" >-2.68955</td>\n",
       "                        <td id=\"T_0de86120_00e7_11ea_a355_0242ac1c0002row0_col3\" class=\"data row0 col3\" >5.93931</td>\n",
       "                        <td id=\"T_0de86120_00e7_11ea_a355_0242ac1c0002row0_col4\" class=\"data row0 col4\" >-0.460897</td>\n",
       "                        <td id=\"T_0de86120_00e7_11ea_a355_0242ac1c0002row0_col5\" class=\"data row0 col5\" >0.36023</td>\n",
       "                        <td id=\"T_0de86120_00e7_11ea_a355_0242ac1c0002row0_col6\" class=\"data row0 col6\" >-0.154207</td>\n",
       "                        <td id=\"T_0de86120_00e7_11ea_a355_0242ac1c0002row0_col7\" class=\"data row0 col7\" >-0.481766</td>\n",
       "                        <td id=\"T_0de86120_00e7_11ea_a355_0242ac1c0002row0_col8\" class=\"data row0 col8\" >-0.167871</td>\n",
       "                        <td id=\"T_0de86120_00e7_11ea_a355_0242ac1c0002row0_col9\" class=\"data row0 col9\" >-1.18672</td>\n",
       "            </tr>\n",
       "            <tr>\n",
       "                        <th id=\"T_0de86120_00e7_11ea_a355_0242ac1c0002level0_row1\" class=\"row_heading level0 row1\" >Green</th>\n",
       "                        <td id=\"T_0de86120_00e7_11ea_a355_0242ac1c0002row1_col0\" class=\"data row1 col0\" >-1.09678</td>\n",
       "                        <td id=\"T_0de86120_00e7_11ea_a355_0242ac1c0002row1_col1\" class=\"data row1 col1\" >-0.00350109</td>\n",
       "                        <td id=\"T_0de86120_00e7_11ea_a355_0242ac1c0002row1_col2\" class=\"data row1 col2\" >-1.57525</td>\n",
       "                        <td id=\"T_0de86120_00e7_11ea_a355_0242ac1c0002row1_col3\" class=\"data row1 col3\" >2.95823</td>\n",
       "                        <td id=\"T_0de86120_00e7_11ea_a355_0242ac1c0002row1_col4\" class=\"data row1 col4\" >-0.336196</td>\n",
       "                        <td id=\"T_0de86120_00e7_11ea_a355_0242ac1c0002row1_col5\" class=\"data row1 col5\" >1.36762</td>\n",
       "                        <td id=\"T_0de86120_00e7_11ea_a355_0242ac1c0002row1_col6\" class=\"data row1 col6\" >0.551725</td>\n",
       "                        <td id=\"T_0de86120_00e7_11ea_a355_0242ac1c0002row1_col7\" class=\"data row1 col7\" >-0.218106</td>\n",
       "                        <td id=\"T_0de86120_00e7_11ea_a355_0242ac1c0002row1_col8\" class=\"data row1 col8\" >-0.732232</td>\n",
       "                        <td id=\"T_0de86120_00e7_11ea_a355_0242ac1c0002row1_col9\" class=\"data row1 col9\" >-0.915498</td>\n",
       "            </tr>\n",
       "            <tr>\n",
       "                        <th id=\"T_0de86120_00e7_11ea_a355_0242ac1c0002level0_row2\" class=\"row_heading level0 row2\" >Red</th>\n",
       "                        <td id=\"T_0de86120_00e7_11ea_a355_0242ac1c0002row2_col0\" class=\"data row2 col0\" >-1.90573</td>\n",
       "                        <td id=\"T_0de86120_00e7_11ea_a355_0242ac1c0002row2_col1\" class=\"data row2 col1\" >-0.59379</td>\n",
       "                        <td id=\"T_0de86120_00e7_11ea_a355_0242ac1c0002row2_col2\" class=\"data row2 col2\" >0.277761</td>\n",
       "                        <td id=\"T_0de86120_00e7_11ea_a355_0242ac1c0002row2_col3\" class=\"data row2 col3\" >3.01317</td>\n",
       "                        <td id=\"T_0de86120_00e7_11ea_a355_0242ac1c0002row2_col4\" class=\"data row2 col4\" >0.223731</td>\n",
       "                        <td id=\"T_0de86120_00e7_11ea_a355_0242ac1c0002row2_col5\" class=\"data row2 col5\" >0.7112</td>\n",
       "                        <td id=\"T_0de86120_00e7_11ea_a355_0242ac1c0002row2_col6\" class=\"data row2 col6\" >-0.249443</td>\n",
       "                        <td id=\"T_0de86120_00e7_11ea_a355_0242ac1c0002row2_col7\" class=\"data row2 col7\" >-0.619405</td>\n",
       "                        <td id=\"T_0de86120_00e7_11ea_a355_0242ac1c0002row2_col8\" class=\"data row2 col8\" >-0.683663</td>\n",
       "                        <td id=\"T_0de86120_00e7_11ea_a355_0242ac1c0002row2_col9\" class=\"data row2 col9\" >-0.173831</td>\n",
       "            </tr>\n",
       "            <tr>\n",
       "                        <th id=\"T_0de86120_00e7_11ea_a355_0242ac1c0002level0_row3\" class=\"row_heading level0 row3\" >NIR</th>\n",
       "                        <td id=\"T_0de86120_00e7_11ea_a355_0242ac1c0002row3_col0\" class=\"data row3 col0\" >0.0684765</td>\n",
       "                        <td id=\"T_0de86120_00e7_11ea_a355_0242ac1c0002row3_col1\" class=\"data row3 col1\" >-0.196796</td>\n",
       "                        <td id=\"T_0de86120_00e7_11ea_a355_0242ac1c0002row3_col2\" class=\"data row3 col2\" >-2.96226</td>\n",
       "                        <td id=\"T_0de86120_00e7_11ea_a355_0242ac1c0002row3_col3\" class=\"data row3 col3\" >2.66494</td>\n",
       "                        <td id=\"T_0de86120_00e7_11ea_a355_0242ac1c0002row3_col4\" class=\"data row3 col4\" >-0.747003</td>\n",
       "                        <td id=\"T_0de86120_00e7_11ea_a355_0242ac1c0002row3_col5\" class=\"data row3 col5\" >1.36166</td>\n",
       "                        <td id=\"T_0de86120_00e7_11ea_a355_0242ac1c0002row3_col6\" class=\"data row3 col6\" >0.791034</td>\n",
       "                        <td id=\"T_0de86120_00e7_11ea_a355_0242ac1c0002row3_col7\" class=\"data row3 col7\" >0.479715</td>\n",
       "                        <td id=\"T_0de86120_00e7_11ea_a355_0242ac1c0002row3_col8\" class=\"data row3 col8\" >-1.19875</td>\n",
       "                        <td id=\"T_0de86120_00e7_11ea_a355_0242ac1c0002row3_col9\" class=\"data row3 col9\" >-0.261016</td>\n",
       "            </tr>\n",
       "            <tr>\n",
       "                        <th id=\"T_0de86120_00e7_11ea_a355_0242ac1c0002level0_row4\" class=\"row_heading level0 row4\" >SWIR1</th>\n",
       "                        <td id=\"T_0de86120_00e7_11ea_a355_0242ac1c0002row4_col0\" class=\"data row4 col0\" >0.166388</td>\n",
       "                        <td id=\"T_0de86120_00e7_11ea_a355_0242ac1c0002row4_col1\" class=\"data row4 col1\" >0.0139419</td>\n",
       "                        <td id=\"T_0de86120_00e7_11ea_a355_0242ac1c0002row4_col2\" class=\"data row4 col2\" >-1.05339</td>\n",
       "                        <td id=\"T_0de86120_00e7_11ea_a355_0242ac1c0002row4_col3\" class=\"data row4 col3\" >3.05759</td>\n",
       "                        <td id=\"T_0de86120_00e7_11ea_a355_0242ac1c0002row4_col4\" class=\"data row4 col4\" >-0.538389</td>\n",
       "                        <td id=\"T_0de86120_00e7_11ea_a355_0242ac1c0002row4_col5\" class=\"data row4 col5\" >0.81744</td>\n",
       "                        <td id=\"T_0de86120_00e7_11ea_a355_0242ac1c0002row4_col6\" class=\"data row4 col6\" >0.452637</td>\n",
       "                        <td id=\"T_0de86120_00e7_11ea_a355_0242ac1c0002row4_col7\" class=\"data row4 col7\" >0.357217</td>\n",
       "                        <td id=\"T_0de86120_00e7_11ea_a355_0242ac1c0002row4_col8\" class=\"data row4 col8\" >-0.771856</td>\n",
       "                        <td id=\"T_0de86120_00e7_11ea_a355_0242ac1c0002row4_col9\" class=\"data row4 col9\" >-2.50158</td>\n",
       "            </tr>\n",
       "            <tr>\n",
       "                        <th id=\"T_0de86120_00e7_11ea_a355_0242ac1c0002level0_row5\" class=\"row_heading level0 row5\" >SWIR2</th>\n",
       "                        <td id=\"T_0de86120_00e7_11ea_a355_0242ac1c0002row5_col0\" class=\"data row5 col0\" >-0.734541</td>\n",
       "                        <td id=\"T_0de86120_00e7_11ea_a355_0242ac1c0002row5_col1\" class=\"data row5 col1\" >-0.460321</td>\n",
       "                        <td id=\"T_0de86120_00e7_11ea_a355_0242ac1c0002row5_col2\" class=\"data row5 col2\" >0.715332</td>\n",
       "                        <td id=\"T_0de86120_00e7_11ea_a355_0242ac1c0002row5_col3\" class=\"data row5 col3\" >2.85215</td>\n",
       "                        <td id=\"T_0de86120_00e7_11ea_a355_0242ac1c0002row5_col4\" class=\"data row5 col4\" >-0.179285</td>\n",
       "                        <td id=\"T_0de86120_00e7_11ea_a355_0242ac1c0002row5_col5\" class=\"data row5 col5\" >0.235555</td>\n",
       "                        <td id=\"T_0de86120_00e7_11ea_a355_0242ac1c0002row5_col6\" class=\"data row5 col6\" >-0.271136</td>\n",
       "                        <td id=\"T_0de86120_00e7_11ea_a355_0242ac1c0002row5_col7\" class=\"data row5 col7\" >-0.406578</td>\n",
       "                        <td id=\"T_0de86120_00e7_11ea_a355_0242ac1c0002row5_col8\" class=\"data row5 col8\" >-1.01603</td>\n",
       "                        <td id=\"T_0de86120_00e7_11ea_a355_0242ac1c0002row5_col9\" class=\"data row5 col9\" >-0.735149</td>\n",
       "            </tr>\n",
       "            <tr>\n",
       "                        <th id=\"T_0de86120_00e7_11ea_a355_0242ac1c0002level0_row6\" class=\"row_heading level0 row6\" >NDVI</th>\n",
       "                        <td id=\"T_0de86120_00e7_11ea_a355_0242ac1c0002row6_col0\" class=\"data row6 col0\" >-0.919315</td>\n",
       "                        <td id=\"T_0de86120_00e7_11ea_a355_0242ac1c0002row6_col1\" class=\"data row6 col1\" >-0.238332</td>\n",
       "                        <td id=\"T_0de86120_00e7_11ea_a355_0242ac1c0002row6_col2\" class=\"data row6 col2\" >2.18171</td>\n",
       "                        <td id=\"T_0de86120_00e7_11ea_a355_0242ac1c0002row6_col3\" class=\"data row6 col3\" >3.64759</td>\n",
       "                        <td id=\"T_0de86120_00e7_11ea_a355_0242ac1c0002row6_col4\" class=\"data row6 col4\" >-0.992437</td>\n",
       "                        <td id=\"T_0de86120_00e7_11ea_a355_0242ac1c0002row6_col5\" class=\"data row6 col5\" >1.17432</td>\n",
       "                        <td id=\"T_0de86120_00e7_11ea_a355_0242ac1c0002row6_col6\" class=\"data row6 col6\" >-0.263332</td>\n",
       "                        <td id=\"T_0de86120_00e7_11ea_a355_0242ac1c0002row6_col7\" class=\"data row6 col7\" >-0.444098</td>\n",
       "                        <td id=\"T_0de86120_00e7_11ea_a355_0242ac1c0002row6_col8\" class=\"data row6 col8\" >-2.37513</td>\n",
       "                        <td id=\"T_0de86120_00e7_11ea_a355_0242ac1c0002row6_col9\" class=\"data row6 col9\" >-1.77098</td>\n",
       "            </tr>\n",
       "            <tr>\n",
       "                        <th id=\"T_0de86120_00e7_11ea_a355_0242ac1c0002level0_row7\" class=\"row_heading level0 row7\" >NDWI</th>\n",
       "                        <td id=\"T_0de86120_00e7_11ea_a355_0242ac1c0002row7_col0\" class=\"data row7 col0\" >0.121986</td>\n",
       "                        <td id=\"T_0de86120_00e7_11ea_a355_0242ac1c0002row7_col1\" class=\"data row7 col1\" >0.0502156</td>\n",
       "                        <td id=\"T_0de86120_00e7_11ea_a355_0242ac1c0002row7_col2\" class=\"data row7 col2\" >0.987004</td>\n",
       "                        <td id=\"T_0de86120_00e7_11ea_a355_0242ac1c0002row7_col3\" class=\"data row7 col3\" >2.8981</td>\n",
       "                        <td id=\"T_0de86120_00e7_11ea_a355_0242ac1c0002row7_col4\" class=\"data row7 col4\" >-1.07648</td>\n",
       "                        <td id=\"T_0de86120_00e7_11ea_a355_0242ac1c0002row7_col5\" class=\"data row7 col5\" >0.740517</td>\n",
       "                        <td id=\"T_0de86120_00e7_11ea_a355_0242ac1c0002row7_col6\" class=\"data row7 col6\" >0.576891</td>\n",
       "                        <td id=\"T_0de86120_00e7_11ea_a355_0242ac1c0002row7_col7\" class=\"data row7 col7\" >-0.444139</td>\n",
       "                        <td id=\"T_0de86120_00e7_11ea_a355_0242ac1c0002row7_col8\" class=\"data row7 col8\" >-2.01388</td>\n",
       "                        <td id=\"T_0de86120_00e7_11ea_a355_0242ac1c0002row7_col9\" class=\"data row7 col9\" >-1.84022</td>\n",
       "            </tr>\n",
       "    </tbody></table>"
      ],
      "text/plain": [
       "<pandas.io.formats.style.Styler at 0x7ffb172bd198>"
      ]
     },
     "execution_count": 21,
     "metadata": {
      "tags": []
     },
     "output_type": "execute_result"
    }
   ],
   "source": [
    "# plot the contributions\n",
    "band_names = ['Blue', 'Green', 'Red', 'NIR', 'SWIR1', 'SWIR2', 'NDVI', 'NDWI']\n",
    "\n",
    "gdf = gpd.GeoDataFrame(c, columns=classes, index=band_names)\n",
    "gdf.style.background_gradient(cmap='viridis')"
   ]
  },
  {
   "cell_type": "markdown",
   "metadata": {
    "colab_type": "text",
    "id": "jF5FtgwM0oN0"
   },
   "source": [
    "## Generate **predictions** over the full image\n",
    "\n",
    "Using the trained RandomForestClassifier `clf` over a new satellite image that cover a larger geospatial location."
   ]
  },
  {
   "cell_type": "code",
   "execution_count": 0,
   "metadata": {
    "colab": {},
    "colab_type": "code",
    "id": "vmD5HXr50oN8",
    "inputHidden": false,
    "outputHidden": false
   },
   "outputs": [],
   "source": [
    "new_image = raster_file\n",
    "\n",
    "output_image = \"classification.tif\"\n",
    "\n",
    "with rasterio.open(new_image, 'r') as src:\n",
    "    profile = src.profile\n",
    "    profile.update(\n",
    "        dtype=rasterio.uint8,\n",
    "        count=1,\n",
    "    )\n",
    "    with rasterio.open(output_image, 'w', **profile) as dst:\n",
    "\n",
    "        # perform prediction on each small image patch to minimize required memory\n",
    "        patch_size = 500\n",
    "\n",
    "        for i in range((src.shape[0] // patch_size) + 1):\n",
    "            for j in range((src.shape[1] // patch_size) + 1):\n",
    "                # define the pixels to read (and write) with rasterio windows reading\n",
    "                window = rasterio.windows.Window(\n",
    "                    j * patch_size,\n",
    "                    i * patch_size,\n",
    "                    # don't read past the image bounds\n",
    "                    min(patch_size, src.shape[1] - j * patch_size),\n",
    "                    min(patch_size, src.shape[0] - i * patch_size))\n",
    "                \n",
    "                # read the image into the proper format\n",
    "                data = src.read(window=window)\n",
    "                \n",
    "                # adding indices if necessary\n",
    "                img_swp = np.moveaxis(data, 0, 2)\n",
    "                img_flat = img_swp.reshape(-1, img_swp.shape[-1])\n",
    "\n",
    "                img_ndvi = norm_inds(img_flat, 3, 2)\n",
    "                img_ndwi = norm_inds(img_flat, 1, 3)\n",
    "\n",
    "                img_w_ind = np.concatenate([img_flat, img_ndvi, img_ndwi], axis=1)\n",
    "\n",
    "                # remove no data values, store the indices for later use\n",
    "                m = np.ma.masked_invalid(img_w_ind)\n",
    "                to_predict = img_w_ind[~m.mask].reshape(-1, img_w_ind.shape[-1])\n",
    "\n",
    "                #makes the assumption that all bands have identical no-data value arrangements\n",
    "                if not len(to_predict):\n",
    "                    continue\n",
    "                # predict\n",
    "                img_preds = clf.predict(to_predict)\n",
    "\n",
    "                # add the prediction back to the valid pixels (using only the first band of the mask to decide on validity)\n",
    "                output = np.zeros(img_flat.shape[0])\n",
    "                output[~m.mask[:, 0]] = img_preds.flatten()\n",
    "                # resize to the original image dimensions\n",
    "                output = output.reshape(*img_swp.shape[:-1])\n",
    "\n",
    "                # create our final mask\n",
    "                mask = (~m.mask[:, 0]).reshape(*img_swp.shape[:-1])\n",
    "\n",
    "                # write to the final files\n",
    "                dst.write(output.astype(rasterio.uint8), 1, window=window)\n",
    "                dst.write_mask(mask, window=window)"
   ]
  }
 ],
 "metadata": {
  "colab": {
   "collapsed_sections": [],
   "name": "Copy of randomforest.ipynb",
   "provenance": [],
   "toc_visible": true
  },
  "kernel_info": {
   "name": "query-planet37"
  },
  "kernelspec": {
   "display_name": "Python 3",
   "language": "python",
   "name": "python3"
  },
  "language_info": {
   "codemirror_mode": {
    "name": "ipython",
    "version": 3
   },
   "file_extension": ".py",
   "mimetype": "text/x-python",
   "name": "python",
   "nbconvert_exporter": "python",
   "pygments_lexer": "ipython3",
   "version": "3.6.5"
  },
  "nteract": {
   "version": "0.15.0"
  }
 },
 "nbformat": 4,
 "nbformat_minor": 1
}
